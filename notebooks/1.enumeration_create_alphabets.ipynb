{
 "cells": [
  {
   "cell_type": "markdown",
   "id": "07f655fd-60c4-46e3-a38f-80a21e7c011f",
   "metadata": {},
   "source": [
    "# **1. Creation of the Alphabets linking Morgan bits to atomic signatures**"
   ]
  },
  {
   "cell_type": "markdown",
   "id": "ea287805-f242-4fff-a107-b7f5af087e27",
   "metadata": {},
   "source": [
    "In this notebook we show how to obtain the Alphabets of MetaNetX, eMolecules, DrugBank and how to merge them. The MetaNetX, eMolecules and DrugBank datasets can be found on https://doi.org/10.5281/zenodo.15682264."
   ]
  },
  {
   "cell_type": "code",
   "execution_count": 2,
   "id": "e4231eed-a21f-4614-9002-bf283d17aa16",
   "metadata": {},
   "outputs": [],
   "source": [
    "import pandas as pd\n",
    "\n",
    "from molsig.SignatureAlphabet import compatible_alphabets, load_alphabet, merge_alphabets, SignatureAlphabet"
   ]
  },
  {
   "cell_type": "markdown",
   "id": "efb549ec-2d43-4581-aeb1-688a6d7bc3c4",
   "metadata": {},
   "source": [
    "We select the parameters of the Alphabets."
   ]
  },
  {
   "cell_type": "code",
   "execution_count": 3,
   "id": "6aaf55fb-6b27-4828-83bb-79481957f26b",
   "metadata": {},
   "outputs": [],
   "source": [
    "radius = 2\n",
    "nBits = 2048\n",
    "use_stereo = True"
   ]
  },
  {
   "cell_type": "markdown",
   "id": "fd165aa7-2301-41cb-9117-1ee639545a63",
   "metadata": {},
   "source": [
    "# Datasets path"
   ]
  },
  {
   "cell_type": "code",
   "execution_count": 1,
   "id": "06ad7bbf-b016-4b92-a52c-a96693c45ff9",
   "metadata": {},
   "outputs": [],
   "source": [
    "path_datasets = \"C:/Users/meyerp/Documents/INRAE/Datasets/\""
   ]
  },
  {
   "cell_type": "markdown",
   "id": "a6efa935-a552-45f5-97b8-f8a00ee6da44",
   "metadata": {},
   "source": [
    "### MetaNetX"
   ]
  },
  {
   "cell_type": "markdown",
   "id": "370a4323-86db-4b04-8949-577fb28c626b",
   "metadata": {},
   "source": [
    "We import the MetaNetx data and select the precomputed molecular signatures with atomic signatures associated to Morgan bits. To obtain the full data we have to merge the test, the train_fold0 and the valid_fold0 data."
   ]
  },
  {
   "cell_type": "code",
   "execution_count": null,
   "id": "8bafdda6-d27b-45ab-86cf-13177227882c",
   "metadata": {},
   "outputs": [],
   "source": [
    "path_metanetx_0 = path_datasets + \"metanetx/test.tsv\"\n",
    "df_metanetx_0 = pd.read_csv(path_metanetx_0, sep='\\t', usecols = [\"SIGNATURE_MORGANS\"])\n",
    "signatures_metanetx_0 = list(df_metanetx_0[\"SIGNATURE_MORGANS\"])\n",
    "\n",
    "path_metanetx_1 = path_datasets + \"metanetx/train_fold0.tsv\"\n",
    "df_metanetx_1 = pd.read_csv(path_metanetx_1, sep='\\t', usecols = [\"SIGNATURE_MORGANS\"])\n",
    "signatures_metanetx_1 = list(df_metanetx_1[\"SIGNATURE_MORGANS\"])\n",
    "\n",
    "path_metanetx_2 = path_datasets + \"metanetx/valid_fold0.tsv\"\n",
    "df_metanetx_2 = pd.read_csv(path_metanetx_2, sep='\\t', usecols = [\"SIGNATURE_MORGANS\"])\n",
    "signatures_metanetx_2 = list(df_metanetx_2[\"SIGNATURE_MORGANS\"])\n",
    "\n",
    "signatures_metanetx = signatures_metanetx_0 + signatures_metanetx_1 + signatures_metanetx_2"
   ]
  },
  {
   "cell_type": "markdown",
   "id": "a10b3459-cd46-44e0-8116-c9320c4936d8",
   "metadata": {},
   "source": [
    "We compute the MetaNetX Alphabet."
   ]
  },
  {
   "cell_type": "code",
   "execution_count": null,
   "id": "32dcd143-e9f3-4d22-b00f-c414f07dd857",
   "metadata": {},
   "outputs": [],
   "source": [
    "Alphabet_metanetx = SignatureAlphabet(radius=radius, nBits=nBits, use_stereo=use_stereo)\n",
    "Alphabet_metanetx.fill_from_signatures(signatures_metanetx, atomic=False)\n",
    "Alphabet_metanetx.print_out()"
   ]
  },
  {
   "cell_type": "code",
   "execution_count": null,
   "id": "0adc20c5-2461-4c6e-9f0b-5bbf7c8078c5",
   "metadata": {},
   "outputs": [],
   "source": [
    "Alphabet_metanetx.save(\"metanetx_alphabet\")"
   ]
  },
  {
   "cell_type": "markdown",
   "id": "01f2cef3-04d3-4ba7-b959-827a62c9cd3e",
   "metadata": {},
   "source": [
    "### eMolecules"
   ]
  },
  {
   "cell_type": "markdown",
   "id": "b0546b79-2972-4cc6-8cab-7bb7d9c37d9d",
   "metadata": {},
   "source": [
    "We import the eMolecules data and select the precomputed molecular signatures with atomic signatures associated to Morgan bits. This file being quite large, we compute the Alphabet by batches."
   ]
  },
  {
   "cell_type": "code",
   "execution_count": null,
   "id": "4e2195c3-2581-4d61-a31a-e0eec675415d",
   "metadata": {},
   "outputs": [],
   "source": [
    "Alphabet_emolecules = SignatureAlphabet(radius=radius, nBits=nBits, use_stereo=use_stereo)"
   ]
  },
  {
   "cell_type": "code",
   "execution_count": null,
   "id": "c904740a-28ce-4add-bed5-77ca0a11fa73",
   "metadata": {},
   "outputs": [],
   "source": [
    "path_emolecules_0 = path_datasets + \"emolecules/test.tsv\"\n",
    "df_emolecules_0 = pd.read_csv(path_emolecules_0, sep='\\t', usecols = [\"SIGNATURE_MORGANS\"])\n",
    "signatures_emolecules_0 = list(df_emolecules_0[\"SIGNATURE_MORGANS\"])\n",
    "\n",
    "Alphabet_emolecules.fill_from_signatures(signatures_emolecules_0, atomic=False)"
   ]
  },
  {
   "cell_type": "code",
   "execution_count": null,
   "id": "cf7c0c06-a0d0-4937-af12-fef524d63fa0",
   "metadata": {},
   "outputs": [],
   "source": [
    "path_emolecules_1 = path_datasets + \"emolecules/valid.tsv\"\n",
    "df_emolecules_1 = pd.read_csv(path_emolecules_1, sep='\\t', usecols = [\"SIGNATURE_MORGANS\"])\n",
    "signatures_emolecules_1 = list(df_emolecules_1[\"SIGNATURE_MORGANS\"])\n",
    "\n",
    "Alphabet_emolecules.fill_from_signatures(signatures_emolecules_1, atomic=False)"
   ]
  },
  {
   "cell_type": "code",
   "execution_count": null,
   "id": "ff17ee10-baa0-4b2f-9ea5-c589a1b14547",
   "metadata": {
    "scrolled": true
   },
   "outputs": [],
   "source": [
    "path_emolecules_2 = path_datasets + \"emolecules/train.tsv\"\n",
    "df_emolecules_2_chunks = pd.read_csv(path_emolecules_2, sep='\\t', usecols=[\"SIGNATURE_MORGANS\"], chunksize=100000)\n",
    "\n",
    "for chunk in df_emolecules_2_chunks:\n",
    "    print(chunk.index)\n",
    "    signatures_emolecules_chunk = set(chunk[\"SIGNATURE_MORGANS\"])\n",
    "    Alphabet_emolecules.fill_from_signatures(signatures_emolecules_chunk, atomic=False)\n",
    "\n",
    "Alphabet_emolecules.print_out()"
   ]
  },
  {
   "cell_type": "code",
   "execution_count": null,
   "id": "2a6b4439-4d92-4ed0-8981-aea2da685769",
   "metadata": {},
   "outputs": [],
   "source": [
    "Alphabet_emolecules.save(\"emolecules_alphabet\")"
   ]
  },
  {
   "cell_type": "markdown",
   "id": "1e87136c-efd9-4fad-9547-daef75d2a58b",
   "metadata": {},
   "source": [
    "### DrugBank"
   ]
  },
  {
   "cell_type": "markdown",
   "id": "ba05bdd5-926a-45fe-b9c4-9a052d3a982a",
   "metadata": {},
   "source": [
    "We import the DrugBank molecules."
   ]
  },
  {
   "cell_type": "code",
   "execution_count": null,
   "id": "6af444a9-6a34-480a-a4fa-6baa73792a62",
   "metadata": {},
   "outputs": [],
   "source": [
    "path_drugbank = path_datasets + \"drugbank/drugbank_500_no_duplicates.tsv\"\n",
    "df_drugbank = pd.read_csv(path_drugbank, sep='\\t')\n",
    "smiles_drugbank = list(df_drugbank[\"SMILES_STEREO\"])"
   ]
  },
  {
   "cell_type": "markdown",
   "id": "867e35fb-9044-474e-898b-328ac1b2d3e1",
   "metadata": {},
   "source": [
    "We compute the DrugBank Alphabet."
   ]
  },
  {
   "cell_type": "code",
   "execution_count": null,
   "id": "b30134ea-ef8e-4baf-a3d6-f435f9a99173",
   "metadata": {
    "scrolled": true
   },
   "outputs": [],
   "source": [
    "Alphabet_drugbank = SignatureAlphabet(radius=radius, nBits=nBits, use_stereo=use_stereo)\n",
    "Alphabet_drugbank.fill(smiles_drugbank)\n",
    "Alphabet_drugbank.print_out()"
   ]
  },
  {
   "cell_type": "code",
   "execution_count": null,
   "id": "cfff4c71-9024-4ee0-b534-8de5b18d6feb",
   "metadata": {},
   "outputs": [],
   "source": [
    "Alphabet_drugbank.save(\"drugbank_alphabet\")"
   ]
  },
  {
   "cell_type": "markdown",
   "id": "8105daf0-2788-4d42-86ac-ebf94826f5dc",
   "metadata": {},
   "source": [
    "### ChemBL"
   ]
  },
  {
   "cell_type": "code",
   "execution_count": null,
   "id": "cb90ad3f-765b-497a-9a23-2045d65fbd19",
   "metadata": {},
   "outputs": [],
   "source": [
    "path_chembl = path_datasets + \"chembl/chembl.tsv\"\n",
    "df_chembl = pd.read_csv(path_chembl, sep='\\t', usecols = [\"SIGNATURE_MORGANS\"])\n",
    "signatures_chembl = list(df_chembl[\"SIGNATURE_MORGANS\"])\n",
    "\n",
    "Alphabet_chembl = SignatureAlphabet(radius=radius, nBits=nBits, use_stereo=use_stereo)\n",
    "Alphabet_chembl.fill_from_signatures(signatures_chembl, atomic=False)\n",
    "Alphabet_chembl.print_out()\n",
    "\n",
    "Alphabet_chembl.save(\"chembl_alphabet\")"
   ]
  },
  {
   "cell_type": "markdown",
   "id": "8c72d0fd-c59f-40e1-b185-0f1ba70a2f50",
   "metadata": {},
   "source": [
    "### MolForge"
   ]
  },
  {
   "cell_type": "code",
   "execution_count": null,
   "id": "3fae0d41-4564-4fa2-a618-004387251402",
   "metadata": {},
   "outputs": [],
   "source": [
    "path_molforge = chembl + \"molforge/molforge.tsv\"\n",
    "df_molforge = pd.read_csv(path_molforge, sep='\\t', usecols = [\"SIGNATURE_MORGANS\"])\n",
    "signatures_molforge = list(df_molforge[\"SIGNATURE_MORGANS\"])"
   ]
  },
  {
   "cell_type": "code",
   "execution_count": null,
   "id": "829d69d7-0a54-483b-b8c3-90cb9433cd61",
   "metadata": {},
   "outputs": [],
   "source": [
    "Alphabet_molforge = SignatureAlphabet(radius=radius, nBits=nBits, use_stereo=use_stereo)\n",
    "Alphabet_molforge.fill_from_signatures(signatures_molforge, atomic=False)\n",
    "Alphabet_molforge.print_out()"
   ]
  },
  {
   "cell_type": "code",
   "execution_count": null,
   "id": "b047075f-bc1d-4686-96e3-4a980b3fc426",
   "metadata": {},
   "outputs": [],
   "source": [
    "Alphabet_molforge.save(\"molforge_alphabet\")"
   ]
  },
  {
   "cell_type": "markdown",
   "id": "bf5c65ae-3b45-4e6a-8790-5b4bf8f1936c",
   "metadata": {},
   "source": [
    "# Merge alphabets"
   ]
  },
  {
   "cell_type": "markdown",
   "id": "9d5ae27f-4e7b-4d16-9c71-c62efa3c6291",
   "metadata": {},
   "source": [
    "We now merge the Alphabets. If necessary, we start by importing the Alphabets."
   ]
  },
  {
   "cell_type": "code",
   "execution_count": null,
   "id": "15ce8e3a-25c1-479d-8f4f-86fb2de2ea0c",
   "metadata": {},
   "outputs": [],
   "source": [
    "Alphabet_metanetx = load_alphabet(\"metanetx_alphabet\")\n",
    "Alphabet_metanetx.print_out()"
   ]
  },
  {
   "cell_type": "code",
   "execution_count": null,
   "id": "a0430a49-2f76-440e-8362-d0c804ae6944",
   "metadata": {},
   "outputs": [],
   "source": [
    "Alphabet_emolecules = load_alphabet(\"emolecules_alphabet\")\n",
    "Alphabet_emolecules.print_out()"
   ]
  },
  {
   "cell_type": "code",
   "execution_count": null,
   "id": "24b1e54f-dd37-46e1-a55d-533c50bd8c5c",
   "metadata": {},
   "outputs": [],
   "source": [
    "Alphabet_chembl = load_alphabet(\"chembl_alphabet\")\n",
    "Alphabet_chembl.print_out()"
   ]
  },
  {
   "cell_type": "code",
   "execution_count": null,
   "id": "e78b1d96-fc33-43c9-960f-668553356568",
   "metadata": {},
   "outputs": [],
   "source": [
    "Alphabet_drugbank = load_alphabet(\"drugbank_alphabet\")\n",
    "Alphabet_drugbank.print_out()"
   ]
  },
  {
   "cell_type": "markdown",
   "id": "d2c8739e-79da-4fae-87b5-4dbb00fc1edf",
   "metadata": {},
   "source": [
    "We verify that the Alphabets are compatible."
   ]
  },
  {
   "cell_type": "code",
   "execution_count": null,
   "id": "eb45c6f3-4fae-4591-9f98-d6e1b544ee4d",
   "metadata": {},
   "outputs": [],
   "source": [
    "compatible_alphabets(Alphabet_metanetx, Alphabet_emolecules), compatible_alphabets(Alphabet_metanetx, Alphabet_drugbank), compatible_alphabets(Alphabet_drugbank, Alphabet_chembl)"
   ]
  },
  {
   "cell_type": "markdown",
   "id": "1d6b4acb-4214-42d6-b1c3-79628c33abe6",
   "metadata": {},
   "source": [
    "We merge the Alphabets."
   ]
  },
  {
   "cell_type": "code",
   "execution_count": null,
   "id": "d52de266-b032-4428-b2fc-5bef72fb675b",
   "metadata": {
    "scrolled": true
   },
   "outputs": [],
   "source": [
    "Alphabet_merged = merge_alphabets(Alphabet_metanetx, Alphabet_emolecules)\n",
    "Alphabet_merged.print_out()\n",
    "Alphabet_merged = merge_alphabets(Alphabet_merged, Alphabet_drugbank)\n",
    "Alphabet_merged.print_out()\n",
    "Alphabet_merged = merge_alphabets(Alphabet_merged, Alphabet_chembl)\n",
    "Alphabet_merged.print_out()"
   ]
  },
  {
   "cell_type": "markdown",
   "id": "7c99e290-8a39-45a8-ab8e-911644374c2f",
   "metadata": {},
   "source": [
    "We export the Alphabet."
   ]
  },
  {
   "cell_type": "code",
   "execution_count": null,
   "id": "1267df2e-4f98-47bb-a1da-511aff045413",
   "metadata": {},
   "outputs": [],
   "source": [
    "Alphabet_merged.save(\"metanetx_emolecules_drugbank_chembl_merged_alphabet\")"
   ]
  },
  {
   "cell_type": "code",
   "execution_count": null,
   "id": "88e6dd08-e6a5-442c-a4ca-61ba2f3555a3",
   "metadata": {},
   "outputs": [],
   "source": []
  }
 ],
 "metadata": {
  "kernelspec": {
   "display_name": "Python 3 (ipykernel)",
   "language": "python",
   "name": "python3"
  },
  "language_info": {
   "codemirror_mode": {
    "name": "ipython",
    "version": 3
   },
   "file_extension": ".py",
   "mimetype": "text/x-python",
   "name": "python",
   "nbconvert_exporter": "python",
   "pygments_lexer": "ipython3",
   "version": "3.13.1"
  }
 },
 "nbformat": 4,
 "nbformat_minor": 5
}
