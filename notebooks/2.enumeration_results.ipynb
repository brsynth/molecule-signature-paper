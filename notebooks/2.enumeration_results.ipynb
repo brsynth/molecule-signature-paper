{
 "cells": [
  {
   "cell_type": "markdown",
   "id": "07f655fd-60c4-46e3-a38f-80a21e7c011f",
   "metadata": {},
   "source": [
    "# **2. Enumerate molecules from ECFPs**"
   ]
  },
  {
   "cell_type": "markdown",
   "id": "78e682f2-bec9-4e10-8f03-de89867ee68c",
   "metadata": {},
   "source": [
    "In this notebook we show how to perform the enumeration on the MetaNetx, eMolecules, DrugBank and MolForge datasets. The alphabets and datasets can be found on https://doi.org/10.5281/zenodo.15682264."
   ]
  },
  {
   "cell_type": "code",
   "execution_count": 12,
   "id": "c83589df-ec2e-4d5d-bb0d-e65ca1ac7bfa",
   "metadata": {},
   "outputs": [],
   "source": [
    "import pandas as pd\n",
    "from rdkit import Chem, RDLogger\n",
    "from rdkit.Chem import AllChem\n",
    "from rdkit.Chem.Descriptors import ExactMolWt\n",
    "\n",
    "from molsig.enumerate_signature import enumerate_molecule_from_morgan\n",
    "from molsig.Signature import MoleculeSignature\n",
    "from molsig.SignatureAlphabet import load_alphabet, merge_alphabets\n",
    "\n",
    "RDLogger.DisableLog(\"rdApp.*\")"
   ]
  },
  {
   "cell_type": "markdown",
   "id": "7d154e91-096b-46b9-be9b-d7abd46e5e1f",
   "metadata": {},
   "source": [
    "# Datasets path"
   ]
  },
  {
   "cell_type": "code",
   "execution_count": null,
   "id": "affbafc9-841e-4a3e-bcd7-b8cdc7fe2268",
   "metadata": {},
   "outputs": [],
   "source": [
    "path_datasets = \"C:/Users/meyerp/Documents/INRAE/Datasets/\""
   ]
  },
  {
   "cell_type": "markdown",
   "id": "088382f9-b921-42e6-a585-dd4c0edda651",
   "metadata": {},
   "source": [
    "### Load of the Alphabet"
   ]
  },
  {
   "cell_type": "markdown",
   "id": "0bd33f70-edb6-4b13-8668-a524501fdf87",
   "metadata": {},
   "source": [
    "We first load an Alphabet to perform the enumeration (MetaNetX, eMolecules or MetaNetX-eMolecules-DrugBank merged)."
   ]
  },
  {
   "cell_type": "code",
   "execution_count": null,
   "id": "35910952",
   "metadata": {
    "scrolled": true
   },
   "outputs": [],
   "source": [
    "file_alphabet = path_datasets + \"alphabets/metanetx_alphabet.npz\"  # MetaNetX\n",
    "#file_alphabet = path_datasets + \"alphabets/emolecules_alphabet.npz\"  # eMolecules\n",
    "#file_alphabet = path_datasets + \"alphabets/metanetx_emolecules_drugbank_chembl_merged_alphabet.npz\"  # DrugBank\n",
    "\n",
    "Alphabet = load_alphabet(file_alphabet, verbose=True)"
   ]
  },
  {
   "cell_type": "markdown",
   "id": "b2f3f32b-f73b-44b9-b254-481403db9adc",
   "metadata": {},
   "source": [
    "### Load of the SMILES dataset"
   ]
  },
  {
   "cell_type": "markdown",
   "id": "b755ff6f-5594-4db1-bab2-ead0215817ab",
   "metadata": {},
   "source": [
    "We load the SMILES dataset (MetaNetX, eMolecules or DrugBank)."
   ]
  },
  {
   "cell_type": "code",
   "execution_count": null,
   "id": "91566087-b3b0-4508-9bde-ffae4b0cde8f",
   "metadata": {},
   "outputs": [],
   "source": [
    "path_smiles = path_datasets + \"metanetx/test.tsv\"  # MetaNetX\n",
    "#path_smiles = path_datasets + \"emolecules/test.tsv\"  # eMolecules\n",
    "#path_smiles = path_datasets + \"drugbank/drugbank_500_no_duplicates.tsv\"  # DrugBank\n",
    "#path_smiles = path_datasets + \"molforge/molforge.tsv\"  # MolForge\n",
    "\n",
    "df = pd.read_csv(path_smiles, sep='\\t', usecols = [\"SMILES\"])  # MetaNetX, eMolecules, MolForge\n",
    "list_smiles = list(df[\"SMILES\"])[:10000]  # MetaNetX, eMolecules, MolForge\n",
    "#df = pd.read_csv(path_smiles, sep='\\t')  # DrugBank\n",
    "#list_smiles = list(df[\"SMILES_STEREO\"])  # DrugBank"
   ]
  },
  {
   "cell_type": "markdown",
   "id": "b3b73ffe-4746-43c7-8137-78b9743f6b1e",
   "metadata": {},
   "source": [
    "### ECFP representation function"
   ]
  },
  {
   "cell_type": "markdown",
   "id": "020d4b6f-e16f-495b-ba4f-b81be6921dc3",
   "metadata": {},
   "source": [
    "We import from AllChem the ECFP representation function and impose the same parameters than the one used when computing the Alphabet."
   ]
  },
  {
   "cell_type": "code",
   "execution_count": null,
   "id": "8bc76982-67d2-4134-b996-de973dd34a46",
   "metadata": {},
   "outputs": [],
   "source": [
    "fpgen = AllChem.GetMorganGenerator(radius=Alphabet.radius, fpSize=Alphabet.nBits, includeChirality=Alphabet.use_stereo)"
   ]
  },
  {
   "cell_type": "markdown",
   "id": "ded4af0c",
   "metadata": {},
   "source": [
    "### Enumeration on the ECFPs of the input molecules"
   ]
  },
  {
   "cell_type": "markdown",
   "id": "38e78fdc-4a4f-4320-9b2c-0e3bbb58a716",
   "metadata": {},
   "source": [
    "We set the partition and the recursion thresholds to $2 \\times 10^5$."
   ]
  },
  {
   "cell_type": "code",
   "execution_count": null,
   "id": "a4fcd84e-24df-48d4-9ee3-75417cc0bc0e",
   "metadata": {},
   "outputs": [],
   "source": [
    "max_nbr_partition = int(2e5)\n",
    "max_nbr_recursion = int(2e5)"
   ]
  },
  {
   "cell_type": "markdown",
   "id": "5b874f73-9411-480a-80be-0ef769266318",
   "metadata": {},
   "source": [
    "We now perform the enumeration."
   ]
  },
  {
   "cell_type": "code",
   "execution_count": null,
   "id": "4ce162b7-f7a6-452e-9651-3c0086ca4e49",
   "metadata": {
    "scrolled": true
   },
   "outputs": [],
   "source": [
    "list_i = []\n",
    "list_smi = []\n",
    "list_wt = []\n",
    "list_nsig = []\n",
    "list_nsigtrue = []\n",
    "list_foundsig = []\n",
    "list_nmol = []\n",
    "list_foundmol = []\n",
    "list_ct_sig = []\n",
    "list_ct_mol = []\n",
    "list_ct_all = []\n",
    "list_ct_dioph = []\n",
    "list_partition_threshold_reached = []\n",
    "list_recursion_threshold_reached = []\n",
    "list_new_smiles = []\n",
    "\n",
    "print(f\"ID | smi | weigth | Nsig | NsigTrue | FoundSig | Nmol | FoundMol | CPU-time\")\n",
    "for i in range(len(list_smiles)):\n",
    "    smi = list_smiles[i]\n",
    "\n",
    "    mol = Chem.MolFromSmiles(smi)\n",
    "    wt = ExactMolWt(mol)\n",
    "    print(i, \"|\", smi)\n",
    "    # Compute ECFP\n",
    "    morgan = fpgen.GetCountFingerprint(mol).ToList()\n",
    "    # Compute molecular signature\n",
    "    ms = MoleculeSignature(mol, radius=Alphabet.radius, nbits=0, map_root=True, use_stereo=False)\n",
    "    ms.post_compute_neighbors()\n",
    "    sig = sorted([atom.to_string(neighbors=True) for atom in ms.atoms])\n",
    "    # Enumeration ECFP => molecule(s)\n",
    "    Ssig, Smol, Nsig, thresholds_reached, computational_times = enumerate_molecule_from_morgan(\n",
    "        morgan,\n",
    "        Alphabet,\n",
    "        max_nbr_partition=max_nbr_partition,\n",
    "        max_nbr_recursion=max_nbr_recursion,\n",
    "        verbose=True,\n",
    "    )\n",
    "    foundsig = sig in Ssig\n",
    "    foundmol = smi in Smol\n",
    "    print(\n",
    "        f\"{i} | {smi} | {wt:.1f} | {len(Ssig)} | {Nsig} | {int(foundsig)} | {len(Smol)} | {int(foundmol)} | {computational_times[2]:.4f} | {thresholds_reached[0]} | {thresholds_reached[1]}\"\n",
    "    )\n",
    "    \n",
    "    list_i.append(i)\n",
    "    list_smi.append(smi)\n",
    "    list_wt.append(wt)\n",
    "    list_nsig.append(len(Ssig))\n",
    "    list_nsigtrue.append(Nsig)\n",
    "    list_foundsig.append(int(foundsig))\n",
    "    list_nmol.append(len(Smol))\n",
    "    list_foundmol.append(int(foundmol))\n",
    "    list_ct_sig.append(computational_times[0])\n",
    "    list_ct_mol.append(computational_times[1])\n",
    "    list_ct_all.append(computational_times[2])\n",
    "    list_ct_dioph.append(computational_times[3])\n",
    "    list_partition_threshold_reached.append(thresholds_reached[0])\n",
    "    list_recursion_threshold_reached.append(thresholds_reached[1])\n",
    "    if smi in Smol:\n",
    "        Smol.remove(smi)\n",
    "    list_new_smiles.append(Smol)"
   ]
  },
  {
   "cell_type": "code",
   "execution_count": null,
   "id": "243308e3-2d9b-4874-9fbb-62763ad8cc9a",
   "metadata": {},
   "outputs": [],
   "source": [
    "100 * sum(list_foundmol) / len(list_foundmol)"
   ]
  },
  {
   "cell_type": "markdown",
   "id": "86d91338-aabd-4d2a-93ed-8f09d371d08e",
   "metadata": {},
   "source": [
    "## We export the results of the enumeration."
   ]
  },
  {
   "cell_type": "code",
   "execution_count": null,
   "id": "ba735fa0-2040-4367-bf85-3c5087c4c838",
   "metadata": {},
   "outputs": [],
   "source": [
    "df = pd.DataFrame(\n",
    "    {\n",
    "        \"ID\": list_i,\n",
    "        \"smi\": list_smi,\n",
    "        \"wt\": list_wt,\n",
    "        \"Nsig\": list_nsig,\n",
    "        \"NsigTrue\": list_nsigtrue,\n",
    "        \"FoundSig\": list_foundsig,\n",
    "        \"Nmol\": list_nmol,\n",
    "        \"Foundmol\": list_foundmol,\n",
    "        \"CT ecfp_sig\": list_ct_sig,\n",
    "        \"CT sig_mol\": list_ct_mol,\n",
    "        \"CT ecfp_mol\": list_ct_all,\n",
    "        \"CT solve_partitions\": list_ct_dioph,\n",
    "        \"ThresholdPart\": list_partition_threshold_reached,\n",
    "        \"ThresholdRec\": list_recursion_threshold_reached,\n",
    "        \"NewSmiles\": list_new_smiles,\n",
    "    }\n",
    ")\n",
    "\n",
    "#df.to_excel(\"RevSig_results.xlsx\")"
   ]
  },
  {
   "cell_type": "code",
   "execution_count": null,
   "id": "40eab420-b7df-48a0-8e24-733df3acffdb",
   "metadata": {},
   "outputs": [],
   "source": []
  }
 ],
 "metadata": {
  "kernelspec": {
   "display_name": "Python 3 (ipykernel)",
   "language": "python",
   "name": "python3"
  },
  "language_info": {
   "codemirror_mode": {
    "name": "ipython",
    "version": 3
   },
   "file_extension": ".py",
   "mimetype": "text/x-python",
   "name": "python",
   "nbconvert_exporter": "python",
   "pygments_lexer": "ipython3",
   "version": "3.13.1"
  }
 },
 "nbformat": 4,
 "nbformat_minor": 5
}
