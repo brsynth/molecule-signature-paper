{
 "cells": [
  {
   "cell_type": "markdown",
   "id": "25337e72-84c3-4012-97e6-a608f8bd2832",
   "metadata": {},
   "source": [
    "# 7. Analysis of enumeration and generation results"
   ]
  },
  {
   "cell_type": "markdown",
   "id": "a7fbb066-ca53-4fd7-bc51-61c3610ed023",
   "metadata": {},
   "source": [
    "In this notebook we analyse and compare the enumerated and generated molecules on the MetaNetX and eMolecules datasets."
   ]
  },
  {
   "cell_type": "code",
   "execution_count": 1,
   "id": "53c1b49e-fa6d-406d-81bb-42480c8d8ea8",
   "metadata": {},
   "outputs": [],
   "source": [
    "import ast\n",
    "import math\n",
    "import numpy as np\n",
    "import pandas as pd\n",
    "import random\n",
    "from collections import defaultdict\n",
    "from rdkit import Chem\n",
    "\n",
    "from molsig.enumerate_signature import save_mol_plot"
   ]
  },
  {
   "cell_type": "code",
   "execution_count": 2,
   "id": "b6868835-9fa4-4cf3-9025-b4212d0d2ba5",
   "metadata": {},
   "outputs": [],
   "source": [
    "from IPython.display import display\n",
    "\n",
    "\n",
    "def plot_mol(mol):\n",
    "    if type(mol) == str:\n",
    "        mol = Chem.MolFromSmiles(mol)\n",
    "    display(mol)"
   ]
  },
  {
   "cell_type": "markdown",
   "id": "909863df-089b-455a-8bc6-67dfbad5e15b",
   "metadata": {},
   "source": [
    "# Results path"
   ]
  },
  {
   "cell_type": "code",
   "execution_count": 3,
   "id": "df18dfaa-4b9d-4316-9c38-e05c9effb51e",
   "metadata": {},
   "outputs": [],
   "source": [
    "path_results = \"C:/Users/meyerp/Documents/INRAE/Diophantine/Enumération/github/results/\""
   ]
  },
  {
   "cell_type": "markdown",
   "id": "ecd7d9f3-9786-4d17-91df-a90ed5ba2e53",
   "metadata": {},
   "source": [
    "# Compatibility enumeration and generation"
   ]
  },
  {
   "cell_type": "code",
   "execution_count": 4,
   "id": "847c1d26-e9e7-4aaa-9f6f-3ce72fb2fd75",
   "metadata": {},
   "outputs": [
    {
     "name": "stdout",
     "output_type": "stream",
     "text": [
      "metanetx top001 True\n",
      "metanetx top010 True\n",
      "metanetx top100 True\n",
      "emolecules top001 True\n",
      "emolecules top010 True\n",
      "emolecules top100 True\n"
     ]
    }
   ],
   "source": [
    "for database in [\"metanetx\", \"emolecules\"]:\n",
    "    df_results_enum = pd.read_excel(path_results + \"RevSig_\" + database + \".xlsx\")\n",
    "    smis_enum = list(set(df_results_enum[\"smi\"]))\n",
    "    for top in [\"top001\", \"top010\", \"top100\"]:\n",
    "        df_results_gen = pd.read_csv(\n",
    "            path_results + \"generative/\" + database + \".\" + top + \".results.refined.tsv\", sep=\"\\t\"\n",
    "        )\n",
    "        smis_gen = list(set(df_results_gen[\"Query SMILES\"]))\n",
    "\n",
    "        print(database, top, smis_enum == smis_gen)"
   ]
  },
  {
   "cell_type": "markdown",
   "id": "23d38f3d-1b97-40c3-9dd2-25f1b7c95fe3",
   "metadata": {},
   "source": [
    "# Database choice"
   ]
  },
  {
   "cell_type": "code",
   "execution_count": 5,
   "id": "ee75ae87-ff8f-4797-8597-151d953e34e4",
   "metadata": {},
   "outputs": [],
   "source": [
    "database_chosen = \"metanetx\"\n",
    "# database_chosen = \"emolecules\""
   ]
  },
  {
   "cell_type": "markdown",
   "id": "10c51e07-b2c2-4dcb-9507-343bc3ac79b0",
   "metadata": {},
   "source": [
    "# Statistics enumeration"
   ]
  },
  {
   "cell_type": "code",
   "execution_count": 6,
   "id": "fb212b76-573d-4536-9872-1137bc0bd214",
   "metadata": {},
   "outputs": [],
   "source": [
    "df_results = pd.read_excel(path_results + \"RevSig_\" + database_chosen + \".xlsx\")"
   ]
  },
  {
   "cell_type": "code",
   "execution_count": 7,
   "id": "6976f940-cfaa-4b0c-8fb4-e904c495a496",
   "metadata": {},
   "outputs": [
    {
     "name": "stdout",
     "output_type": "stream",
     "text": [
      "Results shape: (10000, 15)\n",
      "Missing ids: []\n"
     ]
    },
    {
     "data": {
      "text/html": [
       "<div>\n",
       "<style scoped>\n",
       "    .dataframe tbody tr th:only-of-type {\n",
       "        vertical-align: middle;\n",
       "    }\n",
       "\n",
       "    .dataframe tbody tr th {\n",
       "        vertical-align: top;\n",
       "    }\n",
       "\n",
       "    .dataframe thead th {\n",
       "        text-align: right;\n",
       "    }\n",
       "</style>\n",
       "<table border=\"1\" class=\"dataframe\">\n",
       "  <thead>\n",
       "    <tr style=\"text-align: right;\">\n",
       "      <th></th>\n",
       "      <th>ID</th>\n",
       "      <th>smi</th>\n",
       "      <th>wt</th>\n",
       "      <th>Nsig</th>\n",
       "      <th>NsigTrue</th>\n",
       "      <th>FoundSig</th>\n",
       "      <th>Nmol</th>\n",
       "      <th>Foundmol</th>\n",
       "      <th>CT ecfp_sig</th>\n",
       "      <th>CT sig_mol</th>\n",
       "      <th>CT ecfp_mol</th>\n",
       "      <th>CT solve_partitions</th>\n",
       "      <th>ThresholdPart</th>\n",
       "      <th>ThresholdRec</th>\n",
       "      <th>NewSmiles</th>\n",
       "    </tr>\n",
       "  </thead>\n",
       "  <tbody>\n",
       "    <tr>\n",
       "      <th>0</th>\n",
       "      <td>0</td>\n",
       "      <td>CCN1C(=O)OC(C)(C)C1=O</td>\n",
       "      <td>157.073893</td>\n",
       "      <td>1</td>\n",
       "      <td>1</td>\n",
       "      <td>1</td>\n",
       "      <td>1</td>\n",
       "      <td>1</td>\n",
       "      <td>1.342747</td>\n",
       "      <td>0.018277</td>\n",
       "      <td>1.361032</td>\n",
       "      <td>0.001598</td>\n",
       "      <td>False</td>\n",
       "      <td>False</td>\n",
       "      <td>set()</td>\n",
       "    </tr>\n",
       "    <tr>\n",
       "      <th>1</th>\n",
       "      <td>1</td>\n",
       "      <td>CC(=O)NC[C@H](O)c1c[nH]c(C(=O)[O-])c1C(=O)[O-]</td>\n",
       "      <td>254.054983</td>\n",
       "      <td>1</td>\n",
       "      <td>1</td>\n",
       "      <td>1</td>\n",
       "      <td>1</td>\n",
       "      <td>1</td>\n",
       "      <td>1.493630</td>\n",
       "      <td>0.029611</td>\n",
       "      <td>1.523250</td>\n",
       "      <td>0.003635</td>\n",
       "      <td>False</td>\n",
       "      <td>False</td>\n",
       "      <td>set()</td>\n",
       "    </tr>\n",
       "    <tr>\n",
       "      <th>2</th>\n",
       "      <td>2</td>\n",
       "      <td>Nc1nc(N2CCC2)c2ncn([C@H]3C=C[C@@H](CO)C3)c2n1</td>\n",
       "      <td>286.154209</td>\n",
       "      <td>1</td>\n",
       "      <td>1</td>\n",
       "      <td>1</td>\n",
       "      <td>1</td>\n",
       "      <td>1</td>\n",
       "      <td>1.543445</td>\n",
       "      <td>0.044019</td>\n",
       "      <td>1.587476</td>\n",
       "      <td>0.011138</td>\n",
       "      <td>False</td>\n",
       "      <td>False</td>\n",
       "      <td>set()</td>\n",
       "    </tr>\n",
       "    <tr>\n",
       "      <th>3</th>\n",
       "      <td>3</td>\n",
       "      <td>C[C@H](CO)C(=O)O[C@@H]1O[C@H](C(=O)O)[C@H](O)[...</td>\n",
       "      <td>280.079432</td>\n",
       "      <td>1</td>\n",
       "      <td>1</td>\n",
       "      <td>1</td>\n",
       "      <td>2</td>\n",
       "      <td>1</td>\n",
       "      <td>1.570595</td>\n",
       "      <td>0.081484</td>\n",
       "      <td>1.652089</td>\n",
       "      <td>0.023897</td>\n",
       "      <td>False</td>\n",
       "      <td>False</td>\n",
       "      <td>{'C[C@H](CO)C(=O)O[C@@H]1O[C@H](C(=O)O)[C@H](O...</td>\n",
       "    </tr>\n",
       "    <tr>\n",
       "      <th>4</th>\n",
       "      <td>4</td>\n",
       "      <td>C[C@H](CCCCCCCCCCN(C)C)[C@H](CC(=O)[O-])C(=O)[O-]</td>\n",
       "      <td>327.242056</td>\n",
       "      <td>1</td>\n",
       "      <td>1</td>\n",
       "      <td>1</td>\n",
       "      <td>1</td>\n",
       "      <td>1</td>\n",
       "      <td>1.613742</td>\n",
       "      <td>18.629302</td>\n",
       "      <td>20.243055</td>\n",
       "      <td>0.026824</td>\n",
       "      <td>False</td>\n",
       "      <td>True</td>\n",
       "      <td>set()</td>\n",
       "    </tr>\n",
       "  </tbody>\n",
       "</table>\n",
       "</div>"
      ],
      "text/plain": [
       "   ID                                                smi          wt  Nsig  \\\n",
       "0   0                              CCN1C(=O)OC(C)(C)C1=O  157.073893     1   \n",
       "1   1     CC(=O)NC[C@H](O)c1c[nH]c(C(=O)[O-])c1C(=O)[O-]  254.054983     1   \n",
       "2   2      Nc1nc(N2CCC2)c2ncn([C@H]3C=C[C@@H](CO)C3)c2n1  286.154209     1   \n",
       "3   3  C[C@H](CO)C(=O)O[C@@H]1O[C@H](C(=O)O)[C@H](O)[...  280.079432     1   \n",
       "4   4  C[C@H](CCCCCCCCCCN(C)C)[C@H](CC(=O)[O-])C(=O)[O-]  327.242056     1   \n",
       "\n",
       "   NsigTrue  FoundSig  Nmol  Foundmol  CT ecfp_sig  CT sig_mol  CT ecfp_mol  \\\n",
       "0         1         1     1         1     1.342747    0.018277     1.361032   \n",
       "1         1         1     1         1     1.493630    0.029611     1.523250   \n",
       "2         1         1     1         1     1.543445    0.044019     1.587476   \n",
       "3         1         1     2         1     1.570595    0.081484     1.652089   \n",
       "4         1         1     1         1     1.613742   18.629302    20.243055   \n",
       "\n",
       "   CT solve_partitions  ThresholdPart  ThresholdRec  \\\n",
       "0             0.001598          False         False   \n",
       "1             0.003635          False         False   \n",
       "2             0.011138          False         False   \n",
       "3             0.023897          False         False   \n",
       "4             0.026824          False          True   \n",
       "\n",
       "                                           NewSmiles  \n",
       "0                                              set()  \n",
       "1                                              set()  \n",
       "2                                              set()  \n",
       "3  {'C[C@H](CO)C(=O)O[C@@H]1O[C@H](C(=O)O)[C@H](O...  \n",
       "4                                              set()  "
      ]
     },
     "execution_count": 7,
     "metadata": {},
     "output_type": "execute_result"
    }
   ],
   "source": [
    "print(f\"Results shape: {df_results.shape}\")\n",
    "missing_ids = [i for i in range(10000) if i not in list(df_results[\"ID\"])]\n",
    "print(f\"Missing ids: {missing_ids}\")\n",
    "df_results.head()"
   ]
  },
  {
   "cell_type": "code",
   "execution_count": 8,
   "id": "5f730307-aa04-4d44-bfc6-edb5077177d1",
   "metadata": {},
   "outputs": [
    {
     "name": "stdout",
     "output_type": "stream",
     "text": [
      "Recovery % ecfp to sig: 99.92\n",
      "Recovery % ecfp to mol: 99.66\n"
     ]
    }
   ],
   "source": [
    "recovery_ecfp_sig = np.mean(list(df_results[\"FoundSig\"]))\n",
    "recovery_ecfp_mol = np.mean(list(df_results[\"Foundmol\"]))\n",
    "print(f\"Recovery % ecfp to sig: {round(100 * recovery_ecfp_sig, 2)}\")\n",
    "print(f\"Recovery % ecfp to mol: {round(100 * recovery_ecfp_mol, 2)}\")"
   ]
  },
  {
   "cell_type": "code",
   "execution_count": 9,
   "id": "7d5333b6-dc47-4bd0-9e5d-3cfb9f35256a",
   "metadata": {},
   "outputs": [
    {
     "name": "stdout",
     "output_type": "stream",
     "text": [
      "Nb new signatures enumerated: 12\n",
      "Nb molecules enumerated: 21291\n"
     ]
    }
   ],
   "source": [
    "df_results_nsigtrue = df_results[df_results[\"NsigTrue\"] > 1].shape[0]\n",
    "nb_signatures_enumerated = 0\n",
    "for i in range(df_results.shape[0]):\n",
    "    nb_signatures_enumerated += max(\n",
    "        list(df_results[\"NsigTrue\"])[i] - list(df_results[\"FoundSig\"])[i], 0\n",
    "    )\n",
    "nb_molecules_enumerated = sum(list(df_results[\"Nmol\"]))\n",
    "print(f\"Nb new signatures enumerated: {nb_signatures_enumerated}\")\n",
    "print(f\"Nb molecules enumerated: {nb_molecules_enumerated}\")"
   ]
  },
  {
   "cell_type": "code",
   "execution_count": 10,
   "id": "bce3287b-8107-4418-a920-f41e8fc7268c",
   "metadata": {},
   "outputs": [
    {
     "name": "stdout",
     "output_type": "stream",
     "text": [
      "Nb ECFP enumerating 10 or more molecules: 175\n"
     ]
    },
    {
     "data": {
      "text/html": [
       "<div>\n",
       "<style scoped>\n",
       "    .dataframe tbody tr th:only-of-type {\n",
       "        vertical-align: middle;\n",
       "    }\n",
       "\n",
       "    .dataframe tbody tr th {\n",
       "        vertical-align: top;\n",
       "    }\n",
       "\n",
       "    .dataframe thead th {\n",
       "        text-align: right;\n",
       "    }\n",
       "</style>\n",
       "<table border=\"1\" class=\"dataframe\">\n",
       "  <thead>\n",
       "    <tr style=\"text-align: right;\">\n",
       "      <th></th>\n",
       "      <th>ID</th>\n",
       "      <th>smi</th>\n",
       "      <th>wt</th>\n",
       "      <th>Nsig</th>\n",
       "      <th>NsigTrue</th>\n",
       "      <th>FoundSig</th>\n",
       "      <th>Nmol</th>\n",
       "      <th>Foundmol</th>\n",
       "      <th>CT ecfp_sig</th>\n",
       "      <th>CT sig_mol</th>\n",
       "      <th>CT ecfp_mol</th>\n",
       "      <th>CT solve_partitions</th>\n",
       "      <th>ThresholdPart</th>\n",
       "      <th>ThresholdRec</th>\n",
       "      <th>NewSmiles</th>\n",
       "    </tr>\n",
       "  </thead>\n",
       "  <tbody>\n",
       "    <tr>\n",
       "      <th>7568</th>\n",
       "      <td>7568</td>\n",
       "      <td>C1CCC[C@H]2CCCN3CC[C@@H](CCCCCC[C@@H]4CCCN5CC[...</td>\n",
       "      <td>446.387229</td>\n",
       "      <td>1</td>\n",
       "      <td>1</td>\n",
       "      <td>1</td>\n",
       "      <td>3558</td>\n",
       "      <td>1</td>\n",
       "      <td>5118.024626</td>\n",
       "      <td>235.782266</td>\n",
       "      <td>5353.807029</td>\n",
       "      <td>5116.486669</td>\n",
       "      <td>True</td>\n",
       "      <td>True</td>\n",
       "      <td>{'C1CCC[C@@H]2CCCCCC[C@@H]3CCC[N@]4CC[C@@H]5CC...</td>\n",
       "    </tr>\n",
       "    <tr>\n",
       "      <th>892</th>\n",
       "      <td>892</td>\n",
       "      <td>C=C1CC[C@H]2[C@]3(C)CC[C@H]4C(C)(C)CCC[C@]4(C)...</td>\n",
       "      <td>358.323566</td>\n",
       "      <td>1</td>\n",
       "      <td>1</td>\n",
       "      <td>1</td>\n",
       "      <td>352</td>\n",
       "      <td>1</td>\n",
       "      <td>3.095246</td>\n",
       "      <td>37.122306</td>\n",
       "      <td>40.217780</td>\n",
       "      <td>1.319064</td>\n",
       "      <td>False</td>\n",
       "      <td>True</td>\n",
       "      <td>{'C=C1CC[C@H]2[C@@]3(C)CCCC(C)(C)[C@@H]4CC[C@@...</td>\n",
       "    </tr>\n",
       "    <tr>\n",
       "      <th>8122</th>\n",
       "      <td>8122</td>\n",
       "      <td>O=C1CC[C@H]2[C@H]3CC[C@H]4CCCC[C@H]4[C@H]3CC[C...</td>\n",
       "      <td>262.193280</td>\n",
       "      <td>1</td>\n",
       "      <td>1</td>\n",
       "      <td>1</td>\n",
       "      <td>288</td>\n",
       "      <td>1</td>\n",
       "      <td>16.586380</td>\n",
       "      <td>10.778446</td>\n",
       "      <td>27.364848</td>\n",
       "      <td>15.261256</td>\n",
       "      <td>False</td>\n",
       "      <td>False</td>\n",
       "      <td>{'O=C1CC[C@@H]2[C@@H]3CCCC[C@H]4[C@H]2CC[C@@H]...</td>\n",
       "    </tr>\n",
       "    <tr>\n",
       "      <th>5952</th>\n",
       "      <td>5952</td>\n",
       "      <td>CCCCCC[C@H](C)CCCCCCCCC(=O)OCCCCCCCCCCCC(C)C</td>\n",
       "      <td>466.474981</td>\n",
       "      <td>1</td>\n",
       "      <td>1</td>\n",
       "      <td>1</td>\n",
       "      <td>266</td>\n",
       "      <td>1</td>\n",
       "      <td>1542.499364</td>\n",
       "      <td>55.419640</td>\n",
       "      <td>1597.919027</td>\n",
       "      <td>1540.755201</td>\n",
       "      <td>True</td>\n",
       "      <td>True</td>\n",
       "      <td>{'CCCCCCCCCOC(=O)CCCCCCCC[C@@H](C)CCCCCCCCC(C)...</td>\n",
       "    </tr>\n",
       "    <tr>\n",
       "      <th>4363</th>\n",
       "      <td>4363</td>\n",
       "      <td>C[C@H]1C(=O)CC[C@@H]2[C@]1(C)CC[C@H]1[C@@]2(C)...</td>\n",
       "      <td>426.386166</td>\n",
       "      <td>1</td>\n",
       "      <td>1</td>\n",
       "      <td>1</td>\n",
       "      <td>192</td>\n",
       "      <td>1</td>\n",
       "      <td>16.829958</td>\n",
       "      <td>30.514116</td>\n",
       "      <td>47.344095</td>\n",
       "      <td>14.677656</td>\n",
       "      <td>False</td>\n",
       "      <td>True</td>\n",
       "      <td>{'C[C@H]1C(=O)CC[C@H]2[C@]1(C)CC[C@@]1(C)[C@@H...</td>\n",
       "    </tr>\n",
       "  </tbody>\n",
       "</table>\n",
       "</div>"
      ],
      "text/plain": [
       "        ID                                                smi          wt  \\\n",
       "7568  7568  C1CCC[C@H]2CCCN3CC[C@@H](CCCCCC[C@@H]4CCCN5CC[...  446.387229   \n",
       "892    892  C=C1CC[C@H]2[C@]3(C)CC[C@H]4C(C)(C)CCC[C@]4(C)...  358.323566   \n",
       "8122  8122  O=C1CC[C@H]2[C@H]3CC[C@H]4CCCC[C@H]4[C@H]3CC[C...  262.193280   \n",
       "5952  5952       CCCCCC[C@H](C)CCCCCCCCC(=O)OCCCCCCCCCCCC(C)C  466.474981   \n",
       "4363  4363  C[C@H]1C(=O)CC[C@@H]2[C@]1(C)CC[C@H]1[C@@]2(C)...  426.386166   \n",
       "\n",
       "      Nsig  NsigTrue  FoundSig  Nmol  Foundmol  CT ecfp_sig  CT sig_mol  \\\n",
       "7568     1         1         1  3558         1  5118.024626  235.782266   \n",
       "892      1         1         1   352         1     3.095246   37.122306   \n",
       "8122     1         1         1   288         1    16.586380   10.778446   \n",
       "5952     1         1         1   266         1  1542.499364   55.419640   \n",
       "4363     1         1         1   192         1    16.829958   30.514116   \n",
       "\n",
       "      CT ecfp_mol  CT solve_partitions  ThresholdPart  ThresholdRec  \\\n",
       "7568  5353.807029          5116.486669           True          True   \n",
       "892     40.217780             1.319064          False          True   \n",
       "8122    27.364848            15.261256          False         False   \n",
       "5952  1597.919027          1540.755201           True          True   \n",
       "4363    47.344095            14.677656          False          True   \n",
       "\n",
       "                                              NewSmiles  \n",
       "7568  {'C1CCC[C@@H]2CCCCCC[C@@H]3CCC[N@]4CC[C@@H]5CC...  \n",
       "892   {'C=C1CC[C@H]2[C@@]3(C)CCCC(C)(C)[C@@H]4CC[C@@...  \n",
       "8122  {'O=C1CC[C@@H]2[C@@H]3CCCC[C@H]4[C@H]2CC[C@@H]...  \n",
       "5952  {'CCCCCCCCCOC(=O)CCCCCCCC[C@@H](C)CCCCCCCCC(C)...  \n",
       "4363  {'C[C@H]1C(=O)CC[C@H]2[C@]1(C)CC[C@@]1(C)[C@@H...  "
      ]
     },
     "execution_count": 10,
     "metadata": {},
     "output_type": "execute_result"
    }
   ],
   "source": [
    "nb_molecules_enumerating_10_or_more = df_results[df_results[\"Nmol\"] >= 10].shape[0]\n",
    "print(f\"Nb ECFP enumerating 10 or more molecules: {nb_molecules_enumerating_10_or_more}\")\n",
    "\n",
    "df_results.sort_values(by=[\"Nmol\"], ascending=False).head()"
   ]
  },
  {
   "cell_type": "code",
   "execution_count": 11,
   "id": "0b70df83-0a07-40e0-b00c-b20a21c0b0d6",
   "metadata": {},
   "outputs": [
    {
     "name": "stdout",
     "output_type": "stream",
     "text": [
      "Mean CT solve_partitions: 4.36\n",
      "Mean CT ecfp_sig: 6.15\n",
      "Mean CT sig_mol: 3.13\n",
      "Mean CT ecfp_mol: 9.28\n"
     ]
    }
   ],
   "source": [
    "ct_solve_partitions = np.mean(list(df_results[\"CT solve_partitions\"]))\n",
    "ct_ecfp_sig = np.mean(list(df_results[\"CT ecfp_sig\"]))\n",
    "ct_sig_mol = np.mean(list(df_results[\"CT sig_mol\"]))\n",
    "ct_ecfp_mol = np.mean(list(df_results[\"CT ecfp_mol\"]))\n",
    "print(f\"Mean CT solve_partitions: {round(ct_solve_partitions, 2)}\")\n",
    "print(f\"Mean CT ecfp_sig: {round(ct_ecfp_sig, 2)}\")\n",
    "print(f\"Mean CT sig_mol: {round(ct_sig_mol, 2)}\")\n",
    "print(f\"Mean CT ecfp_mol: {round(ct_ecfp_mol, 2)}\")"
   ]
  },
  {
   "cell_type": "code",
   "execution_count": 12,
   "id": "5775871d-d3a2-4b0e-abb1-f1deec4d7017",
   "metadata": {},
   "outputs": [
    {
     "name": "stdout",
     "output_type": "stream",
     "text": [
      "Nb at least one timeout: 783\n"
     ]
    }
   ],
   "source": [
    "nb_at_least_one_timeout = df_results[\n",
    "    df_results[\"ThresholdPart\"] | df_results[\"ThresholdRec\"]\n",
    "].shape[0]\n",
    "print(f\"Nb at least one timeout: {nb_at_least_one_timeout}\")"
   ]
  },
  {
   "cell_type": "markdown",
   "id": "74ba97bd-c745-4692-93a6-cd7c56cf35f3",
   "metadata": {},
   "source": [
    "## Unrecovered molecules"
   ]
  },
  {
   "cell_type": "code",
   "execution_count": 13,
   "id": "683c4114-ed46-4a86-8357-5287a889729a",
   "metadata": {},
   "outputs": [
    {
     "name": "stdout",
     "output_type": "stream",
     "text": [
      "Nb molecules not recovered: 34\n"
     ]
    }
   ],
   "source": [
    "mol_not_recovered = list(df_results[df_results[\"Foundmol\"] == 0][\"smi\"])\n",
    "nb_mol_not_recovered = len(mol_not_recovered)\n",
    "print(f\"Nb molecules not recovered: {nb_mol_not_recovered}\")"
   ]
  },
  {
   "cell_type": "code",
   "execution_count": 14,
   "id": "fa358575-0689-4e5b-b591-f17d59929372",
   "metadata": {
    "scrolled": true
   },
   "outputs": [
    {
     "name": "stdout",
     "output_type": "stream",
     "text": [
      "OC[C@H]1O[C@@H](O[C@H]2O[C@H](CO)[C@H](O)[C@H](O)[C@H]2O)[C@H](O)[C@@H](O)[C@H]1O\n"
     ]
    },
    {
     "data": {
      "image/png": "[encoded data removed]",
      "text/plain": [
       "<rdkit.Chem.rdchem.Mol at 0x274fdeccc80>"
      ]
     },
     "metadata": {},
     "output_type": "display_data"
    },
    {
     "name": "stdout",
     "output_type": "stream",
     "text": [
      "c1ccc(-c2nnc(-c3ccncc3)nc2-c2ccccc2)cc1\n"
     ]
    },
    {
     "data": {
      "image/png": "[encoded data removed]",
      "text/plain": [
       "<rdkit.Chem.rdchem.Mol at 0x274fdecceb0>"
      ]
     },
     "metadata": {},
     "output_type": "display_data"
    },
    {
     "name": "stdout",
     "output_type": "stream",
     "text": [
      "CCCCCC(=O)O[C@H](COCCCCCCCCCCC(C)C)COP(=O)([O-])[O-]\n"
     ]
    },
    {
     "data": {
      "image/png": "[encoded data removed]",
      "text/plain": [
       "<rdkit.Chem.rdchem.Mol at 0x274fdeccf20>"
      ]
     },
     "metadata": {},
     "output_type": "display_data"
    },
    {
     "name": "stdout",
     "output_type": "stream",
     "text": [
      "O=c1ccc2cc3ccc4cccc5ccc(c2o1)c3c45\n"
     ]
    },
    {
     "data": {
      "image/png": "[encoded data removed]",
      "text/plain": [
       "<rdkit.Chem.rdchem.Mol at 0x274fdeccc80>"
      ]
     },
     "metadata": {},
     "output_type": "display_data"
    },
    {
     "name": "stdout",
     "output_type": "stream",
     "text": [
      "N[C@H](Cc1ccc(O)cc1)C(=O)N[C@@H](Cc1ccccc1)C(=O)N[C@H](Cc1ccc(O)cc1)C(=O)O\n"
     ]
    },
    {
     "data": {
      "image/png": "[encoded data removed]",
      "text/plain": [
       "<rdkit.Chem.rdchem.Mol at 0x274fdeccf20>"
      ]
     },
     "metadata": {},
     "output_type": "display_data"
    },
    {
     "name": "stdout",
     "output_type": "stream",
     "text": [
      "CCCCC/C=C\\C/C=C\\CCCCCCCCCCCCC\n"
     ]
    },
    {
     "data": {
      "image/png": "[encoded data removed]",
      "text/plain": [
       "<rdkit.Chem.rdchem.Mol at 0x274fdeccc80>"
      ]
     },
     "metadata": {},
     "output_type": "display_data"
    },
    {
     "name": "stdout",
     "output_type": "stream",
     "text": [
      "O=C(CN1CCOCC1)N[C@H]1CC[C@@H](CCn2cc(C3CCCCC3)nn2)O[C@H]1CO\n"
     ]
    },
    {
     "data": {
      "image/png": "[encoded data removed]",
      "text/plain": [
       "<rdkit.Chem.rdchem.Mol at 0x274fdeccac0>"
      ]
     },
     "metadata": {},
     "output_type": "display_data"
    },
    {
     "name": "stdout",
     "output_type": "stream",
     "text": [
      "OC[C@@H]1O[C@H](OC[C@@H]2O[C@H](O)[C@@H](O[C@H]3O[C@@H](CO)[C@H](O)[C@@H]3O)[C@@H](O)[C@H]2O)[C@H](O)[C@@H](O)[C@H]1O\n"
     ]
    },
    {
     "data": {
      "image/png": "[encoded data removed]",
      "text/plain": [
       "<rdkit.Chem.rdchem.Mol at 0x274fdecceb0>"
      ]
     },
     "metadata": {},
     "output_type": "display_data"
    },
    {
     "name": "stdout",
     "output_type": "stream",
     "text": [
      "COc1ccc2c3c(n(C)c2c1)[C@H](CO)N(CC1CC1)CC31CCN(C(=O)NC2CCCC2)CC1\n"
     ]
    },
    {
     "data": {
      "image/png": "[encoded data removed]",
      "text/plain": [
       "<rdkit.Chem.rdchem.Mol at 0x274fdecccf0>"
      ]
     },
     "metadata": {},
     "output_type": "display_data"
    },
    {
     "name": "stdout",
     "output_type": "stream",
     "text": [
      "C[C@@H]1O[C@@H](O[C@@H](C=O)[C@@H](O[C@H]2O[C@H](CO)[C@H](O)[C@H](O)[C@H]2O)[C@@H](O)[C@H](O)CO)[C@@H](O)[C@H](O)[C@@H]1O\n"
     ]
    },
    {
     "data": {
      "image/png": "[encoded data removed]",
      "text/plain": [
       "<rdkit.Chem.rdchem.Mol at 0x274fdecce40>"
      ]
     },
     "metadata": {},
     "output_type": "display_data"
    }
   ],
   "source": [
    "random.shuffle(mol_not_recovered)\n",
    "for smi in mol_not_recovered[:10]:\n",
    "    print(smi)\n",
    "    mol = Chem.MolFromSmiles(smi)\n",
    "    plot_mol(mol)\n",
    "    file_name = \"unrecovered_\" + database_chosen + \"_\" + smi\n",
    "    file_name = file_name.replace(\"/\", \"_fs_\").replace(\"\\\\\", \"_bs_\")\n",
    "    # save_mol_plot(mol, file_name)"
   ]
  },
  {
   "cell_type": "markdown",
   "id": "a7cfe00d-053f-4f2b-bb42-88a781cd1428",
   "metadata": {},
   "source": [
    "## Outliers"
   ]
  },
  {
   "cell_type": "code",
   "execution_count": 15,
   "id": "048eb4c8-4d21-47d7-badd-917a4c4ae453",
   "metadata": {},
   "outputs": [
    {
     "name": "stdout",
     "output_type": "stream",
     "text": [
      "[3558, 352, 288, 266, 192, 96, 67, 64, 57, 48, 48, 48, 48, 42, 41, 40, 36, 35, 32, 32, 32, 32, 32, 31, 31, 30, 30, 28, 28, 26, 26, 25, 24, 24, 24, 24, 24, 24, 24, 24, 24, 24, 24, 24, 24, 24, 24, 24, 24, 24, 24, 24, 24, 24, 24, 24, 24, 24, 24, 22, 21, 20, 20, 20, 20, 20, 19, 19, 19, 18, 18, 18, 18, 18, 17, 16, 16, 16, 16, 16, 16, 16, 16, 16, 16, 16, 16, 16, 16, 16, 16, 16, 16, 16, 16, 16, 16, 16, 16, 16, 16, 16, 16, 16, 15, 15, 15, 15, 14, 14, 14, 14, 14, 14, 14, 14, 13, 13, 13, 13, 13, 12, 12, 12, 12, 12, 12, 12, 12, 12, 12, 12, 12, 12, 12, 12, 12, 12, 12, 12, 12, 12, 12, 12, 12, 12, 12, 12, 11, 11, 11, 11, 11, 11, 11, 10, 10, 10, 10, 10, 10, 10, 10, 10, 10, 10, 10, 10, 10, 10, 10, 10, 10, 10, 10]\n"
     ]
    }
   ],
   "source": [
    "df_results_sorted_nmol = df_results.sort_values(by=[\"Nmol\"], ascending=False)\n",
    "print(list(df_results_sorted_nmol[df_results_sorted_nmol[\"Nmol\"] >= 10][\"Nmol\"]))"
   ]
  },
  {
   "cell_type": "code",
   "execution_count": 16,
   "id": "128dba5e-1638-4f28-9e4c-ff54fbe50a0d",
   "metadata": {
    "scrolled": true
   },
   "outputs": [
    {
     "name": "stdout",
     "output_type": "stream",
     "text": [
      "SMILES: C1CCC[C@H]2CCCN3CC[C@@H](CCCCCC[C@@H]4CCCN5CC[C@@H](CC1)O[C@@H]45)O[C@@H]23\n",
      "Nb enumerated: 3558\n"
     ]
    },
    {
     "data": {
      "image/png": "[encoded data removed]",
      "text/plain": [
       "<rdkit.Chem.rdchem.Mol at 0x274fdecd5b0>"
      ]
     },
     "metadata": {},
     "output_type": "display_data"
    },
    {
     "data": {
      "image/png": "[encoded data removed]",
      "text/plain": [
       "<rdkit.Chem.rdchem.Mol at 0x274fdecd620>"
      ]
     },
     "metadata": {},
     "output_type": "display_data"
    },
    {
     "data": {
      "image/png": "[encoded data removed]",
      "text/plain": [
       "<rdkit.Chem.rdchem.Mol at 0x274fdecd3f0>"
      ]
     },
     "metadata": {},
     "output_type": "display_data"
    },
    {
     "data": {
      "image/png": "[encoded data removed]",
      "text/plain": [
       "<rdkit.Chem.rdchem.Mol at 0x274fdecd230>"
      ]
     },
     "metadata": {},
     "output_type": "display_data"
    },
    {
     "data": {
      "image/png": "[encoded data removed]",
      "text/plain": [
       "<rdkit.Chem.rdchem.Mol at 0x274fdecd620>"
      ]
     },
     "metadata": {},
     "output_type": "display_data"
    },
    {
     "data": {
      "image/png": "[encoded data removed]",
      "text/plain": [
       "<rdkit.Chem.rdchem.Mol at 0x274fdecd3f0>"
      ]
     },
     "metadata": {},
     "output_type": "display_data"
    },
    {
     "data": {
      "image/png": "[encoded data removed]",
      "text/plain": [
       "<rdkit.Chem.rdchem.Mol at 0x274fdecd230>"
      ]
     },
     "metadata": {},
     "output_type": "display_data"
    },
    {
     "data": {
      "image/png": "[encoded data removed]",
      "text/plain": [
       "<rdkit.Chem.rdchem.Mol at 0x274fdecd620>"
      ]
     },
     "metadata": {},
     "output_type": "display_data"
    },
    {
     "data": {
      "image/png": "[encoded data removed]",
      "text/plain": [
       "<rdkit.Chem.rdchem.Mol at 0x274fdecd5b0>"
      ]
     },
     "metadata": {},
     "output_type": "display_data"
    },
    {
     "data": {
      "image/png": "[encoded data removed]",
      "text/plain": [
       "<rdkit.Chem.rdchem.Mol at 0x274fdecd3f0>"
      ]
     },
     "metadata": {},
     "output_type": "display_data"
    },
    {
     "data": {
      "image/png": "[encoded data removed]",
      "text/plain": [
       "<rdkit.Chem.rdchem.Mol at 0x274fdecd4d0>"
      ]
     },
     "metadata": {},
     "output_type": "display_data"
    }
   ],
   "source": [
    "i = 0\n",
    "\n",
    "smi_outlier = list(df_results_sorted_nmol[\"smi\"])[i]\n",
    "nb_enumerated = list(df_results_sorted_nmol[\"Nmol\"])[i]\n",
    "print(f\"SMILES: {smi_outlier}\")\n",
    "print(f\"Nb enumerated: {nb_enumerated}\")\n",
    "mol = Chem.MolFromSmiles(smi_outlier)\n",
    "plot_mol(mol)\n",
    "file_name = smi_outlier + \"_nb_enum_\" + str(nb_enumerated)\n",
    "# save_mol_plot(mol, file_name)\n",
    "\n",
    "mols_enum = list(df_results_sorted_nmol[\"NewSmiles\"])[i]\n",
    "mols_enum_trunc = mols_enum[: mols_enum.rfind(\",\")] + \"}\"\n",
    "smiles_enum = list(ast.literal_eval(mols_enum_trunc))\n",
    "random.shuffle(smiles_enum)\n",
    "\n",
    "for j in range(10):\n",
    "    smi = smiles_enum[j]\n",
    "    mol = Chem.MolFromSmiles(smi)\n",
    "    plot_mol(mol)\n",
    "    file_name = smi_outlier + \"_enum_\" + str(j) + \"_\" + smi\n",
    "    file_name = file_name.replace(\"/\", \"_fs_\").replace(\"\\\\\", \"_bs_\")\n",
    "    # save_mol_plot(mol, file_name)"
   ]
  },
  {
   "cell_type": "markdown",
   "id": "21c1f643-3452-48c8-9128-62df1276b0ae",
   "metadata": {},
   "source": [
    "# Statistics generation"
   ]
  },
  {
   "cell_type": "markdown",
   "id": "d9f36d9d-3e3f-4ef3-b21c-0b7b5100ea16",
   "metadata": {},
   "source": [
    "## Method choice"
   ]
  },
  {
   "cell_type": "code",
   "execution_count": 17,
   "id": "efef4579-2ee7-44da-be9c-e6369b507532",
   "metadata": {},
   "outputs": [],
   "source": [
    "method_chosen = \"top001\"\n",
    "# method_chosen = \"top010\"\n",
    "# method_chosen = \"top100\""
   ]
  },
  {
   "cell_type": "code",
   "execution_count": 18,
   "id": "2b235467-47da-44fa-9cd5-49a9411e3d90",
   "metadata": {},
   "outputs": [
    {
     "name": "stdout",
     "output_type": "stream",
     "text": [
      "Results shape: (10000, 14)\n"
     ]
    },
    {
     "data": {
      "text/html": [
       "<div>\n",
       "<style scoped>\n",
       "    .dataframe tbody tr th:only-of-type {\n",
       "        vertical-align: middle;\n",
       "    }\n",
       "\n",
       "    .dataframe tbody tr th {\n",
       "        vertical-align: top;\n",
       "    }\n",
       "\n",
       "    .dataframe thead th {\n",
       "        text-align: right;\n",
       "    }\n",
       "</style>\n",
       "<table border=\"1\" class=\"dataframe\">\n",
       "  <thead>\n",
       "    <tr style=\"text-align: right;\">\n",
       "      <th></th>\n",
       "      <th>Query ID</th>\n",
       "      <th>Query SMILES</th>\n",
       "      <th>Query Counted ECFP</th>\n",
       "      <th>Predicted Tokens</th>\n",
       "      <th>Predicted Log Prob</th>\n",
       "      <th>Predicted Prob</th>\n",
       "      <th>Predicted SMILES</th>\n",
       "      <th>Predicted Counted ECFP</th>\n",
       "      <th>Predicted Canonic SMILES</th>\n",
       "      <th>Tanimoto Counted ECFP</th>\n",
       "      <th>SMILES Exact Match</th>\n",
       "      <th>Tanimoto Counted ECFP Exact Match</th>\n",
       "      <th>SMILES Syntaxically Valid</th>\n",
       "      <th>Time Elapsed</th>\n",
       "    </tr>\n",
       "  </thead>\n",
       "  <tbody>\n",
       "    <tr>\n",
       "      <th>0</th>\n",
       "      <td>MNXM52680</td>\n",
       "      <td>CCN1C(=O)OC(C)(C)C1=O</td>\n",
       "      <td>19-34-80-233-255-294-314-314-324-351-576-588-6...</td>\n",
       "      <td>[1, 18, 18, 22, 9, 18, 5, 15, 23, 6, 23, 18, 5...</td>\n",
       "      <td>-0.000355</td>\n",
       "      <td>0.999645</td>\n",
       "      <td>CCN1C(=O)OC(C)(C)C1=O</td>\n",
       "      <td>19-34-80-233-255-294-314-314-324-351-576-588-6...</td>\n",
       "      <td>CCN1C(=O)OC(C)(C)C1=O</td>\n",
       "      <td>1.0</td>\n",
       "      <td>True</td>\n",
       "      <td>True</td>\n",
       "      <td>True</td>\n",
       "      <td>0.23268</td>\n",
       "    </tr>\n",
       "  </tbody>\n",
       "</table>\n",
       "</div>"
      ],
      "text/plain": [
       "    Query ID           Query SMILES  \\\n",
       "0  MNXM52680  CCN1C(=O)OC(C)(C)C1=O   \n",
       "\n",
       "                                  Query Counted ECFP  \\\n",
       "0  19-34-80-233-255-294-314-314-324-351-576-588-6...   \n",
       "\n",
       "                                    Predicted Tokens  Predicted Log Prob  \\\n",
       "0  [1, 18, 18, 22, 9, 18, 5, 15, 23, 6, 23, 18, 5...           -0.000355   \n",
       "\n",
       "   Predicted Prob       Predicted SMILES  \\\n",
       "0        0.999645  CCN1C(=O)OC(C)(C)C1=O   \n",
       "\n",
       "                              Predicted Counted ECFP Predicted Canonic SMILES  \\\n",
       "0  19-34-80-233-255-294-314-314-324-351-576-588-6...    CCN1C(=O)OC(C)(C)C1=O   \n",
       "\n",
       "   Tanimoto Counted ECFP  SMILES Exact Match  \\\n",
       "0                    1.0                True   \n",
       "\n",
       "   Tanimoto Counted ECFP Exact Match  SMILES Syntaxically Valid  Time Elapsed  \n",
       "0                               True                       True       0.23268  "
      ]
     },
     "execution_count": 18,
     "metadata": {},
     "output_type": "execute_result"
    }
   ],
   "source": [
    "df_results = pd.read_csv(\n",
    "    path_results + \"generative/\" + database_chosen + \".\" + method_chosen + \".results.refined.tsv\",\n",
    "    sep=\"\\t\",\n",
    ")\n",
    "print(f\"Results shape: {df_results.shape}\")\n",
    "df_results.head(1)"
   ]
  },
  {
   "cell_type": "code",
   "execution_count": 19,
   "id": "94f92082-7e91-4583-b11f-4b59c4252694",
   "metadata": {},
   "outputs": [
    {
     "name": "stdout",
     "output_type": "stream",
     "text": [
      "Recovery % ecfp to mol: 79.41\n"
     ]
    }
   ],
   "source": [
    "list_smiles = list(set(list(df_results[\"Query SMILES\"])))\n",
    "grouped = df_results.groupby(\"Query SMILES\")[\"Tanimoto Counted ECFP\"].apply(\n",
    "    lambda col: int(1 in col.values)\n",
    ")\n",
    "# Only keep values for your specific list_smiles\n",
    "mean_result = grouped.reindex(list_smiles, fill_value=0).mean()\n",
    "print(f\"Recovery % ecfp to mol: {round(100 * mean_result, 2)}\")"
   ]
  },
  {
   "cell_type": "code",
   "execution_count": 20,
   "id": "829c6db6-d664-47b1-926a-672f659ed447",
   "metadata": {},
   "outputs": [
    {
     "name": "stdout",
     "output_type": "stream",
     "text": [
      "Number of NaN values: 346 ; Percent: 3.46\n"
     ]
    }
   ],
   "source": [
    "list_smiles = list(df_results[\"Predicted Canonic SMILES\"])\n",
    "count_nan = sum(1 for x in list_smiles if isinstance(x, float) and math.isnan(x))\n",
    "percent_nan = round(100 * count_nan / len(list_smiles), 2)\n",
    "print(f\"Number of NaN values: {count_nan} ; Percent: {percent_nan}\")"
   ]
  },
  {
   "cell_type": "code",
   "execution_count": 21,
   "id": "95897b8c-63b9-4e9b-b544-2e499e6032f1",
   "metadata": {},
   "outputs": [
    {
     "name": "stdout",
     "output_type": "stream",
     "text": [
      "10000 9654\n",
      "Mean Tanimoto for non nan SMILES: 0.96\n"
     ]
    }
   ],
   "source": [
    "tanimoto_list = list(df_results[\"Tanimoto Counted ECFP\"])\n",
    "tanimoto_list_no_nan = [x for x in tanimoto_list if not (isinstance(x, float) and math.isnan(x))]\n",
    "print(len(tanimoto_list), len(tanimoto_list_no_nan))\n",
    "print(f\"Mean Tanimoto for non nan SMILES: {round(np.mean(tanimoto_list_no_nan), 2)}\")"
   ]
  },
  {
   "cell_type": "code",
   "execution_count": 22,
   "id": "f8872b54-d1fa-4273-a853-b64a7a4774b6",
   "metadata": {},
   "outputs": [
    {
     "name": "stdout",
     "output_type": "stream",
     "text": [
      "Nb molecules generated: 7941\n"
     ]
    }
   ],
   "source": [
    "mols_gen = list(set(list(df_results[df_results[\"Tanimoto Counted ECFP\"] == 1][\"Query SMILES\"])))\n",
    "mols_gen = list(set([Chem.MolToSmiles(Chem.MolFromSmiles(smi)) for smi in mols_gen]))\n",
    "nb_mol_gen = len(mols_gen)\n",
    "print(f\"Nb molecules generated: {nb_mol_gen}\")"
   ]
  },
  {
   "cell_type": "code",
   "execution_count": 23,
   "id": "83a21801-ef49-40d9-ba5e-ef4d962da0f0",
   "metadata": {},
   "outputs": [
    {
     "name": "stdout",
     "output_type": "stream",
     "text": [
      "Mean CT ecfp_mol: 0.44\n"
     ]
    }
   ],
   "source": [
    "ct_ecfp_mol = np.mean(list(df_results[\"Time Elapsed\"]))\n",
    "print(f\"Mean CT ecfp_mol: {round(ct_ecfp_mol, 2)}\")"
   ]
  },
  {
   "cell_type": "markdown",
   "id": "88596308-9bdc-4655-92b7-c5c40da0c0a9",
   "metadata": {},
   "source": [
    "# Recovery enumeration by generation"
   ]
  },
  {
   "cell_type": "code",
   "execution_count": 24,
   "id": "dbcb4a29-d960-4e81-8030-4fc6a20cecee",
   "metadata": {},
   "outputs": [],
   "source": [
    "df_results_enum = pd.read_excel(path_results + \"RevSig_\" + database_chosen + \".xlsx\")\n",
    "df_results_gen = pd.read_csv(\n",
    "    path_results + \"generative/\" + database_chosen + \".top100.results.refined.tsv\", sep=\"\\t\"\n",
    ")\n",
    "list_smiles = list(df_results_enum[\"smi\"])"
   ]
  },
  {
   "cell_type": "code",
   "execution_count": 25,
   "id": "f7c992d9-1605-472b-8a62-a9c0e5100ef9",
   "metadata": {},
   "outputs": [],
   "source": [
    "def predicted_smiles_by_enum(smi):\n",
    "    df_enum_ID = df_results_enum[df_results_enum[\"smi\"] == smi]\n",
    "\n",
    "    smiles_enumerated = list(df_enum_ID[\"NewSmiles\"])[0]\n",
    "    if smiles_enumerated[-1] != \")\" and smiles_enumerated[-1] != \"}\":\n",
    "        smiles_enumerated = smiles_enumerated[: smiles_enumerated.rfind(\",\")] + \"}\"\n",
    "    smiles_enumerated = set(list(ast.literal_eval(smiles_enumerated)))\n",
    "\n",
    "    if list(df_enum_ID[\"Foundmol\"])[0] == 1:\n",
    "        smiles_enumerated.add(smi)\n",
    "    if \"[]\" in smiles_enumerated:\n",
    "        smiles_enumerated.remove(\"[]\")\n",
    "    if len(smiles_enumerated) != list(df_enum_ID[\"Nmol\"])[0]:\n",
    "        print(f\"PB for smi: {smi}, nb enum: {list(df_enum_ID[\"Nmol\"])[0]}\")\n",
    "        target_n = list(df_enum_ID[\"Nmol\"])[0]\n",
    "        current_n = len(smiles_enumerated)\n",
    "        if current_n == 0:\n",
    "            print(f\"Cannot pad: smiles_enumerated is empty.\")\n",
    "        else:\n",
    "            first_smi = list(smiles_enumerated)[0]\n",
    "            for i in range(1, target_n - current_n + 1):\n",
    "                smiles_enumerated.add(f\"{first_smi}_{i}\")\n",
    "    return smiles_enumerated"
   ]
  },
  {
   "cell_type": "code",
   "execution_count": 26,
   "id": "692cf0f0-ae93-43fa-a3e3-abb97212210b",
   "metadata": {},
   "outputs": [],
   "source": [
    "def predicted_smiles_by_gen(smi):\n",
    "    df_gen_ID = df_results_gen[df_results_gen[\"Query SMILES\"] == smi]\n",
    "    df_gen_ID_true = df_gen_ID[df_gen_ID[\"Tanimoto Counted ECFP\"] == 1]\n",
    "    list_smiles = set(df_gen_ID_true[\"Predicted Canonic SMILES\"])\n",
    "    list_smiles = set([Chem.MolToSmiles(Chem.MolFromSmiles(smi)) for smi in list_smiles])\n",
    "    return list_smiles"
   ]
  },
  {
   "cell_type": "code",
   "execution_count": 27,
   "id": "abd4844c-355a-4ebe-a161-66983189693c",
   "metadata": {},
   "outputs": [
    {
     "name": "stdout",
     "output_type": "stream",
     "text": [
      "{'CC(C)[C@H](NC(=O)[C@H](CCC(N)=O)NC(=O)[C@@H](N)CC(=O)O)C(=O)O'}\n",
      "{'CC(C)[C@H](NC(=O)[C@H](CCC(N)=O)NC(=O)[C@@H](N)CC(=O)O)C(=O)O'}\n"
     ]
    }
   ],
   "source": [
    "i = 556\n",
    "smi = list_smiles[i]\n",
    "print(predicted_smiles_by_enum(smi))\n",
    "print(predicted_smiles_by_gen(smi))"
   ]
  },
  {
   "cell_type": "code",
   "execution_count": 28,
   "id": "7928d9d6-004e-41db-a298-1ce6f783a51a",
   "metadata": {},
   "outputs": [
    {
     "name": "stdout",
     "output_type": "stream",
     "text": [
      "0\n",
      "1000\n",
      "2000\n",
      "3000\n",
      "4000\n",
      "5000\n",
      "6000\n",
      "7000\n",
      "PB for smi: C1CCC[C@H]2CCCN3CC[C@@H](CCCCCC[C@@H]4CCCN5CC[C@@H](CC1)O[C@@H]45)O[C@@H]23, nb enum: 3558\n",
      "8000\n",
      "9000\n",
      "recovery total 57.686346343525436\n"
     ]
    }
   ],
   "source": [
    "nb_intersection_total = 0\n",
    "nb_total = 0\n",
    "dict_recovery_per_class = {}\n",
    "dict_enum = {}\n",
    "dict_gen = {}\n",
    "for i in range(len(list_smiles)):\n",
    "    if i % 1000 == 0:\n",
    "        print(i)\n",
    "    smi = list_smiles[i]\n",
    "    smiles_by_enum = predicted_smiles_by_enum(smi)\n",
    "    nb_enum = len(smiles_by_enum)\n",
    "    nb_total += nb_enum\n",
    "    smiles_by_gen = predicted_smiles_by_gen(smi)\n",
    "    nb_gen = len(smiles_by_gen)\n",
    "    smiles_gen_enum_intersection = smiles_by_gen & smiles_by_enum\n",
    "    nb_intersection = len(smiles_gen_enum_intersection)\n",
    "    nb_intersection_total += nb_intersection\n",
    "\n",
    "    if nb_enum in dict_recovery_per_class:\n",
    "        dict_recovery_per_class[nb_enum][0] += nb_intersection\n",
    "        dict_recovery_per_class[nb_enum][1] += nb_enum\n",
    "        dict_recovery_per_class[nb_enum][2] += 1\n",
    "    else:\n",
    "        dict_recovery_per_class[nb_enum] = [nb_intersection, nb_enum, 1]\n",
    "\n",
    "    if nb_enum in dict_enum:\n",
    "        dict_enum[nb_enum] += 1\n",
    "    else:\n",
    "        dict_enum[nb_enum] = 1\n",
    "\n",
    "    if nb_gen in dict_gen:\n",
    "        dict_gen[nb_gen] += 1\n",
    "    else:\n",
    "        dict_gen[nb_gen] = 1\n",
    "\n",
    "print(\"recovery total\", 100 * nb_intersection_total / nb_total)"
   ]
  },
  {
   "cell_type": "markdown",
   "id": "6ee714e2-9616-4c42-bdec-15e8f0da6c0c",
   "metadata": {},
   "source": [
    "- enumeration & generation"
   ]
  },
  {
   "cell_type": "code",
   "execution_count": 29,
   "id": "e850e508-5d20-4376-aa81-20a961655a2c",
   "metadata": {},
   "outputs": [
    {
     "name": "stdout",
     "output_type": "stream",
     "text": [
      "0: 20\n",
      "1: 8111\n",
      "2: 1131\n",
      "3: 35\n",
      "4: 300\n",
      "5-9: 228\n",
      "10-14: 67\n",
      "15-19: 42\n",
      "20-24: 34\n",
      "25-inf: 32\n"
     ]
    }
   ],
   "source": [
    "dict_sorted = dict(sorted(dict_enum.items()))  # enumeration\n",
    "# dict_sorted = dict(sorted(dict_gen.items())) # generation\n",
    "\n",
    "ranges = [\n",
    "    (\"0\", lambda x: x == 0),\n",
    "    (\"1\", lambda x: x == 1),\n",
    "    (\"2\", lambda x: x == 2),\n",
    "    (\"3\", lambda x: x == 3),\n",
    "    (\"4\", lambda x: x == 4),\n",
    "    (\"5-9\", lambda x: 5 <= x <= 9),\n",
    "    (\"10-14\", lambda x: 10 <= x <= 14),\n",
    "    (\"15-19\", lambda x: 15 <= x <= 19),\n",
    "    (\"20-24\", lambda x: 20 <= x <= 24),\n",
    "    (\"25-inf\", lambda x: x >= 25),\n",
    "]\n",
    "\n",
    "# Group by key and sum values\n",
    "grouped_sums = defaultdict(int)\n",
    "\n",
    "for key, value in dict_sorted.items():\n",
    "    for label, condition in ranges:\n",
    "        if condition(key):\n",
    "            grouped_sums[label] += value\n",
    "            break\n",
    "\n",
    "# Display grouped sums\n",
    "for label, _ in ranges:\n",
    "    print(f\"{label}: {grouped_sums[label]}\")"
   ]
  },
  {
   "cell_type": "markdown",
   "id": "c54be5af-909a-4817-a72e-4e90a829183a",
   "metadata": {},
   "source": [
    "- recovery "
   ]
  },
  {
   "cell_type": "code",
   "execution_count": 30,
   "id": "998aa687-1084-4a01-b5a4-9254d33eb660",
   "metadata": {},
   "outputs": [
    {
     "name": "stdout",
     "output_type": "stream",
     "text": [
      "1: 95.9%\n",
      "2: 77.9%\n",
      "3: 43.8%\n",
      "4: 54.6%\n",
      "5-9: 57.0%\n",
      "10-14: 75.4%\n",
      "15-19: 60.8%\n",
      "20-24: 52.2%\n",
      "25-inf: 28.8%\n"
     ]
    }
   ],
   "source": [
    "dict_recovery_per_class = dict(sorted(dict_recovery_per_class.items()))\n",
    "\n",
    "ranges = [\n",
    "    (\"1\", lambda x: x == 1),\n",
    "    (\"2\", lambda x: x == 2),\n",
    "    (\"3\", lambda x: x == 3),\n",
    "    (\"4\", lambda x: x == 4),\n",
    "    (\"5-9\", lambda x: 5 <= x <= 9),\n",
    "    (\"10-14\", lambda x: 10 <= x <= 14),\n",
    "    (\"15-19\", lambda x: 15 <= x <= 19),\n",
    "    (\"20-24\", lambda x: 20 <= x <= 24),\n",
    "    (\"25-inf\", lambda x: x >= 25),\n",
    "]\n",
    "\n",
    "grouped_values = defaultdict(list)\n",
    "\n",
    "for x in dict_recovery_per_class:\n",
    "    if x == 0:\n",
    "        continue\n",
    "\n",
    "    values = dict_recovery_per_class[x]\n",
    "    recovered = values[0]\n",
    "    total = values[1]\n",
    "\n",
    "    if total == 0:\n",
    "        continue\n",
    "\n",
    "    percent = 100 * recovered / total\n",
    "\n",
    "    for label, condition in ranges:\n",
    "        if condition(x):\n",
    "            grouped_values[label].append(percent)\n",
    "            break\n",
    "\n",
    "for label, _ in ranges:\n",
    "    values = grouped_values[label]\n",
    "    mean_val = round(sum(values) / len(values), 1) if values else float(\"nan\")\n",
    "    print(f\"{label}: {mean_val}%\")"
   ]
  },
  {
   "cell_type": "markdown",
   "id": "91ec80e3-fcfb-4193-a3f8-d8a686f86cbf",
   "metadata": {},
   "source": [
    "# Create Excel supplementary"
   ]
  },
  {
   "cell_type": "code",
   "execution_count": 31,
   "id": "179a5477-a23b-42d4-a107-7ee936336930",
   "metadata": {},
   "outputs": [
    {
     "data": {
      "text/html": [
       "<div>\n",
       "<style scoped>\n",
       "    .dataframe tbody tr th:only-of-type {\n",
       "        vertical-align: middle;\n",
       "    }\n",
       "\n",
       "    .dataframe tbody tr th {\n",
       "        vertical-align: top;\n",
       "    }\n",
       "\n",
       "    .dataframe thead th {\n",
       "        text-align: right;\n",
       "    }\n",
       "</style>\n",
       "<table border=\"1\" class=\"dataframe\">\n",
       "  <thead>\n",
       "    <tr style=\"text-align: right;\">\n",
       "      <th></th>\n",
       "      <th>ID</th>\n",
       "      <th>smi</th>\n",
       "      <th>wt</th>\n",
       "      <th>Nsig</th>\n",
       "      <th>NsigTrue</th>\n",
       "      <th>FoundSig</th>\n",
       "      <th>Nmol</th>\n",
       "      <th>Foundmol</th>\n",
       "      <th>CT ecfp_sig</th>\n",
       "      <th>CT sig_mol</th>\n",
       "      <th>CT ecfp_mol</th>\n",
       "      <th>CT solve_partitions</th>\n",
       "      <th>ThresholdPart</th>\n",
       "      <th>ThresholdRec</th>\n",
       "      <th>NewSmiles</th>\n",
       "    </tr>\n",
       "  </thead>\n",
       "  <tbody>\n",
       "    <tr>\n",
       "      <th>0</th>\n",
       "      <td>0</td>\n",
       "      <td>CCN1C(=O)OC(C)(C)C1=O</td>\n",
       "      <td>157.073893</td>\n",
       "      <td>1</td>\n",
       "      <td>1</td>\n",
       "      <td>1</td>\n",
       "      <td>1</td>\n",
       "      <td>1</td>\n",
       "      <td>1.342747</td>\n",
       "      <td>0.018277</td>\n",
       "      <td>1.361032</td>\n",
       "      <td>0.001598</td>\n",
       "      <td>False</td>\n",
       "      <td>False</td>\n",
       "      <td>set()</td>\n",
       "    </tr>\n",
       "  </tbody>\n",
       "</table>\n",
       "</div>"
      ],
      "text/plain": [
       "   ID                    smi          wt  Nsig  NsigTrue  FoundSig  Nmol  \\\n",
       "0   0  CCN1C(=O)OC(C)(C)C1=O  157.073893     1         1         1     1   \n",
       "\n",
       "   Foundmol  CT ecfp_sig  CT sig_mol  CT ecfp_mol  CT solve_partitions  \\\n",
       "0         1     1.342747    0.018277     1.361032             0.001598   \n",
       "\n",
       "   ThresholdPart  ThresholdRec NewSmiles  \n",
       "0          False         False     set()  "
      ]
     },
     "execution_count": 31,
     "metadata": {},
     "output_type": "execute_result"
    }
   ],
   "source": [
    "df_results_enum = pd.read_excel(path_results + \"RevSig_\" + database_chosen + \".xlsx\")\n",
    "df_results_enum.head(1)"
   ]
  },
  {
   "cell_type": "code",
   "execution_count": 32,
   "id": "2bb7bfbc-8237-43ee-ab28-99ae9702d8b1",
   "metadata": {},
   "outputs": [
    {
     "data": {
      "text/html": [
       "<div>\n",
       "<style scoped>\n",
       "    .dataframe tbody tr th:only-of-type {\n",
       "        vertical-align: middle;\n",
       "    }\n",
       "\n",
       "    .dataframe tbody tr th {\n",
       "        vertical-align: top;\n",
       "    }\n",
       "\n",
       "    .dataframe thead th {\n",
       "        text-align: right;\n",
       "    }\n",
       "</style>\n",
       "<table border=\"1\" class=\"dataframe\">\n",
       "  <thead>\n",
       "    <tr style=\"text-align: right;\">\n",
       "      <th></th>\n",
       "      <th>Query ID</th>\n",
       "      <th>Query SMILES</th>\n",
       "      <th>Query Counted ECFP</th>\n",
       "      <th>Predicted Tokens</th>\n",
       "      <th>Predicted Log Prob</th>\n",
       "      <th>Predicted Prob</th>\n",
       "      <th>Predicted SMILES</th>\n",
       "      <th>Predicted Counted ECFP</th>\n",
       "      <th>Predicted Canonic SMILES</th>\n",
       "      <th>Tanimoto Counted ECFP</th>\n",
       "      <th>SMILES Exact Match</th>\n",
       "      <th>Tanimoto Counted ECFP Exact Match</th>\n",
       "      <th>SMILES Syntaxically Valid</th>\n",
       "      <th>Time Elapsed</th>\n",
       "    </tr>\n",
       "  </thead>\n",
       "  <tbody>\n",
       "    <tr>\n",
       "      <th>0</th>\n",
       "      <td>MNXM52680</td>\n",
       "      <td>CCN1C(=O)OC(C)(C)C1=O</td>\n",
       "      <td>19-34-80-233-255-294-314-314-324-351-576-588-6...</td>\n",
       "      <td>[1, 18, 18, 22, 9, 18, 5, 15, 23, 6, 23, 18, 5...</td>\n",
       "      <td>-0.000355</td>\n",
       "      <td>0.999645</td>\n",
       "      <td>CCN1C(=O)OC(C)(C)C1=O</td>\n",
       "      <td>19-34-80-233-255-294-314-314-324-351-576-588-6...</td>\n",
       "      <td>CCN1C(=O)OC(C)(C)C1=O</td>\n",
       "      <td>1.0</td>\n",
       "      <td>True</td>\n",
       "      <td>True</td>\n",
       "      <td>True</td>\n",
       "      <td>0.232680</td>\n",
       "    </tr>\n",
       "    <tr>\n",
       "      <th>1</th>\n",
       "      <td>MNXM1161300</td>\n",
       "      <td>CC(=O)NC[C@H](O)c1c[nH]c(C(=O)[O-])c1C(=O)[O-]</td>\n",
       "      <td>1-80-125-154-197-227-237-245-347-586-606-650-6...</td>\n",
       "      <td>[1, 18, 18, 5, 15, 23, 6, 22, 18, 29, 5, 23, 6...</td>\n",
       "      <td>-0.000081</td>\n",
       "      <td>0.999919</td>\n",
       "      <td>CC(=O)NC[C@H](O)c1c[nH]c(C(=O)[O-])c1C(=O)[O-]</td>\n",
       "      <td>1-80-125-154-197-227-237-245-347-586-606-650-6...</td>\n",
       "      <td>CC(=O)NC[C@H](O)c1c[nH]c(C(=O)[O-])c1C(=O)[O-]</td>\n",
       "      <td>1.0</td>\n",
       "      <td>True</td>\n",
       "      <td>True</td>\n",
       "      <td>True</td>\n",
       "      <td>0.347055</td>\n",
       "    </tr>\n",
       "    <tr>\n",
       "      <th>2</th>\n",
       "      <td>MNXM1114727</td>\n",
       "      <td>Nc1nc(N2CCC2)c2ncn([C@H]3C=C[C@@H](CO)C3)c2n1</td>\n",
       "      <td>49-80-128-130-194-222-255-378-378-378-407-409-...</td>\n",
       "      <td>[1, 22, 42, 9, 43, 42, 5, 22, 10, 18, 18, 18, ...</td>\n",
       "      <td>-0.018720</td>\n",
       "      <td>0.981454</td>\n",
       "      <td>Nc1nc(N2CCC2)c2ncn([C@H]3C=C[C@@H](CO)C3)c2n1</td>\n",
       "      <td>49-80-128-130-194-222-255-378-378-378-407-409-...</td>\n",
       "      <td>Nc1nc(N2CCC2)c2ncn([C@H]3C=C[C@@H](CO)C3)c2n1</td>\n",
       "      <td>1.0</td>\n",
       "      <td>True</td>\n",
       "      <td>True</td>\n",
       "      <td>True</td>\n",
       "      <td>0.386471</td>\n",
       "    </tr>\n",
       "    <tr>\n",
       "      <th>3</th>\n",
       "      <td>MNXM806648</td>\n",
       "      <td>C[C@H](CO)C(=O)O[C@@H]1O[C@H](C(=O)O)[C@H](O)[...</td>\n",
       "      <td>1-80-147-222-283-301-363-389-482-490-521-559-6...</td>\n",
       "      <td>[1, 18, 29, 5, 18, 23, 6, 18, 5, 15, 23, 6, 23...</td>\n",
       "      <td>-0.000055</td>\n",
       "      <td>0.999945</td>\n",
       "      <td>C[C@H](CO)C(=O)O[C@@H]1O[C@H](C(=O)O)[C@H](O)[...</td>\n",
       "      <td>1-80-147-222-283-301-363-389-482-490-521-559-6...</td>\n",
       "      <td>C[C@H](CO)C(=O)O[C@@H]1O[C@H](C(=O)O)[C@H](O)[...</td>\n",
       "      <td>1.0</td>\n",
       "      <td>True</td>\n",
       "      <td>True</td>\n",
       "      <td>True</td>\n",
       "      <td>0.375897</td>\n",
       "    </tr>\n",
       "    <tr>\n",
       "      <th>4</th>\n",
       "      <td>MNXM1256019</td>\n",
       "      <td>C[C@H](CCCCCCCCCCN(C)C)[C@H](CC(=O)[O-])C(=O)[O-]</td>\n",
       "      <td>1-1-48-80-80-80-80-80-80-80-80-80-80-80-169-23...</td>\n",
       "      <td>[1, 18, 29, 5, 18, 18, 18, 18, 18, 18, 18, 18,...</td>\n",
       "      <td>-0.084072</td>\n",
       "      <td>0.919365</td>\n",
       "      <td>C[C@H](CCCCCCCCCCN(C)C)[C@H](CC(=O)[O-])C(=O)[O-]</td>\n",
       "      <td>1-1-48-80-80-80-80-80-80-80-80-80-80-80-169-23...</td>\n",
       "      <td>C[C@H](CCCCCCCCCCN(C)C)[C@H](CC(=O)[O-])C(=O)[O-]</td>\n",
       "      <td>1.0</td>\n",
       "      <td>True</td>\n",
       "      <td>True</td>\n",
       "      <td>True</td>\n",
       "      <td>0.370256</td>\n",
       "    </tr>\n",
       "  </tbody>\n",
       "</table>\n",
       "</div>"
      ],
      "text/plain": [
       "      Query ID                                       Query SMILES  \\\n",
       "0    MNXM52680                              CCN1C(=O)OC(C)(C)C1=O   \n",
       "1  MNXM1161300     CC(=O)NC[C@H](O)c1c[nH]c(C(=O)[O-])c1C(=O)[O-]   \n",
       "2  MNXM1114727      Nc1nc(N2CCC2)c2ncn([C@H]3C=C[C@@H](CO)C3)c2n1   \n",
       "3   MNXM806648  C[C@H](CO)C(=O)O[C@@H]1O[C@H](C(=O)O)[C@H](O)[...   \n",
       "4  MNXM1256019  C[C@H](CCCCCCCCCCN(C)C)[C@H](CC(=O)[O-])C(=O)[O-]   \n",
       "\n",
       "                                  Query Counted ECFP  \\\n",
       "0  19-34-80-233-255-294-314-314-324-351-576-588-6...   \n",
       "1  1-80-125-154-197-227-237-245-347-586-606-650-6...   \n",
       "2  49-80-128-130-194-222-255-378-378-378-407-409-...   \n",
       "3  1-80-147-222-283-301-363-389-482-490-521-559-6...   \n",
       "4  1-1-48-80-80-80-80-80-80-80-80-80-80-80-169-23...   \n",
       "\n",
       "                                    Predicted Tokens  Predicted Log Prob  \\\n",
       "0  [1, 18, 18, 22, 9, 18, 5, 15, 23, 6, 23, 18, 5...           -0.000355   \n",
       "1  [1, 18, 18, 5, 15, 23, 6, 22, 18, 29, 5, 23, 6...           -0.000081   \n",
       "2  [1, 22, 42, 9, 43, 42, 5, 22, 10, 18, 18, 18, ...           -0.018720   \n",
       "3  [1, 18, 29, 5, 18, 23, 6, 18, 5, 15, 23, 6, 23...           -0.000055   \n",
       "4  [1, 18, 29, 5, 18, 18, 18, 18, 18, 18, 18, 18,...           -0.084072   \n",
       "\n",
       "   Predicted Prob                                   Predicted SMILES  \\\n",
       "0        0.999645                              CCN1C(=O)OC(C)(C)C1=O   \n",
       "1        0.999919     CC(=O)NC[C@H](O)c1c[nH]c(C(=O)[O-])c1C(=O)[O-]   \n",
       "2        0.981454      Nc1nc(N2CCC2)c2ncn([C@H]3C=C[C@@H](CO)C3)c2n1   \n",
       "3        0.999945  C[C@H](CO)C(=O)O[C@@H]1O[C@H](C(=O)O)[C@H](O)[...   \n",
       "4        0.919365  C[C@H](CCCCCCCCCCN(C)C)[C@H](CC(=O)[O-])C(=O)[O-]   \n",
       "\n",
       "                              Predicted Counted ECFP  \\\n",
       "0  19-34-80-233-255-294-314-314-324-351-576-588-6...   \n",
       "1  1-80-125-154-197-227-237-245-347-586-606-650-6...   \n",
       "2  49-80-128-130-194-222-255-378-378-378-407-409-...   \n",
       "3  1-80-147-222-283-301-363-389-482-490-521-559-6...   \n",
       "4  1-1-48-80-80-80-80-80-80-80-80-80-80-80-169-23...   \n",
       "\n",
       "                            Predicted Canonic SMILES  Tanimoto Counted ECFP  \\\n",
       "0                              CCN1C(=O)OC(C)(C)C1=O                    1.0   \n",
       "1     CC(=O)NC[C@H](O)c1c[nH]c(C(=O)[O-])c1C(=O)[O-]                    1.0   \n",
       "2      Nc1nc(N2CCC2)c2ncn([C@H]3C=C[C@@H](CO)C3)c2n1                    1.0   \n",
       "3  C[C@H](CO)C(=O)O[C@@H]1O[C@H](C(=O)O)[C@H](O)[...                    1.0   \n",
       "4  C[C@H](CCCCCCCCCCN(C)C)[C@H](CC(=O)[O-])C(=O)[O-]                    1.0   \n",
       "\n",
       "   SMILES Exact Match  Tanimoto Counted ECFP Exact Match  \\\n",
       "0                True                               True   \n",
       "1                True                               True   \n",
       "2                True                               True   \n",
       "3                True                               True   \n",
       "4                True                               True   \n",
       "\n",
       "   SMILES Syntaxically Valid  Time Elapsed  \n",
       "0                       True      0.232680  \n",
       "1                       True      0.347055  \n",
       "2                       True      0.386471  \n",
       "3                       True      0.375897  \n",
       "4                       True      0.370256  "
      ]
     },
     "execution_count": 32,
     "metadata": {},
     "output_type": "execute_result"
    }
   ],
   "source": [
    "method_chosen = \"top001\"\n",
    "df_results_gen_top001 = pd.read_csv(\n",
    "    path_results + \"generative/\" + database_chosen + \".\" + method_chosen + \".results.refined.tsv\",\n",
    "    sep=\"\\t\",\n",
    ")\n",
    "method_chosen = \"top010\"\n",
    "df_results_gen_top010 = pd.read_csv(\n",
    "    path_results + \"generative/\" + database_chosen + \".\" + method_chosen + \".results.refined.tsv\",\n",
    "    sep=\"\\t\",\n",
    ")\n",
    "method_chosen = \"top100\"\n",
    "df_results_gen_top100 = pd.read_csv(\n",
    "    path_results + \"generative/\" + database_chosen + \".\" + method_chosen + \".results.refined.tsv\",\n",
    "    sep=\"\\t\",\n",
    ")\n",
    "df_results_gen_top001.head()"
   ]
  },
  {
   "cell_type": "code",
   "execution_count": 33,
   "id": "77e1ab2b-d886-4746-8d74-49a45c84a192",
   "metadata": {},
   "outputs": [],
   "source": [
    "list_smiles = list(df_results_enum[\"smi\"])"
   ]
  },
  {
   "cell_type": "code",
   "execution_count": 34,
   "id": "060eeba2-f3f4-4a12-ae89-a4772f3b48fc",
   "metadata": {},
   "outputs": [],
   "source": [
    "def predicted_smiles_by_gen_method_chosen(smi, method_chosen):\n",
    "    if method_chosen == \"top001\":\n",
    "        df_gen_ID = df_results_gen_top001[df_results_gen_top001[\"Query SMILES\"] == smi]\n",
    "    elif method_chosen == \"top010\":\n",
    "        df_gen_ID = df_results_gen_top010[df_results_gen_top010[\"Query SMILES\"] == smi]\n",
    "    else:\n",
    "        df_gen_ID = df_results_gen_top100[df_results_gen_top100[\"Query SMILES\"] == smi]\n",
    "    df_gen_ID_true = df_gen_ID[df_gen_ID[\"Tanimoto Counted ECFP\"] == 1]\n",
    "    list_smiles = set(df_gen_ID_true[\"Predicted Canonic SMILES\"])\n",
    "    list_smiles = set([Chem.MolToSmiles(Chem.MolFromSmiles(smi)) for smi in list_smiles])\n",
    "    return list_smiles"
   ]
  },
  {
   "cell_type": "code",
   "execution_count": 35,
   "id": "edcc8f93-867b-4cf1-b435-a71b1385409b",
   "metadata": {},
   "outputs": [
    {
     "name": "stdout",
     "output_type": "stream",
     "text": [
      "1000\n",
      "2000\n",
      "3000\n",
      "4000\n",
      "5000\n",
      "6000\n",
      "7000\n",
      "PB for smi: C1CCC[C@H]2CCCN3CC[C@@H](CCCCCC[C@@H]4CCCN5CC[C@@H](CC1)O[C@@H]45)O[C@@H]23, nb enum: 3558\n",
      "8000\n",
      "9000\n"
     ]
    }
   ],
   "source": [
    "list_idx = []\n",
    "list_enum = []\n",
    "list_gen_001 = []\n",
    "list_gen_010 = []\n",
    "list_gen_100 = []\n",
    "for i in range(len(list_smiles)):\n",
    "    if i > 0 and i % 1000 == 0:\n",
    "        print(i)\n",
    "    smi = list_smiles[i]\n",
    "    smi_idx = list(df_results_gen_top001[df_results_gen_top001[\"Query SMILES\"] == smi][\"Query ID\"])[\n",
    "        0\n",
    "    ]\n",
    "    list_idx.append(smi_idx)\n",
    "    list_enum.append(list(predicted_smiles_by_enum(smi)))\n",
    "    list_gen_001.append(list(predicted_smiles_by_gen_method_chosen(smi, \"top001\")))\n",
    "    list_gen_010.append(list(predicted_smiles_by_gen_method_chosen(smi, \"top010\")))\n",
    "    list_gen_100.append(list(predicted_smiles_by_gen_method_chosen(smi, \"top100\")))"
   ]
  },
  {
   "cell_type": "code",
   "execution_count": 36,
   "id": "e780defc-5140-4e79-8e4e-0a32f00dcda4",
   "metadata": {},
   "outputs": [],
   "source": [
    "df = pd.DataFrame(\n",
    "    {\n",
    "        \"ID\": list_idx,\n",
    "        \"SMILES\": list_smiles,\n",
    "        \"Enumeration: SMILES\": list_enum,\n",
    "        \"Generation TOP1: SMILES\": list_gen_001,\n",
    "        \"Generation TOP10: SMILES\": list_gen_010,\n",
    "        \"Generation TOP100: SMILES\": list_gen_100,\n",
    "    }\n",
    ")\n",
    "\n",
    "# df.to_excel(\"Dataset Enumeration Generation.xlsx\")"
   ]
  },
  {
   "cell_type": "code",
   "execution_count": null,
   "id": "84cdd440-4c1e-43e8-bfa7-542613ea6276",
   "metadata": {},
   "outputs": [],
   "source": []
  }
 ],
 "metadata": {
  "kernelspec": {
   "display_name": "Python 3 (ipykernel)",
   "language": "python",
   "name": "python3"
  },
  "language_info": {
   "codemirror_mode": {
    "name": "ipython",
    "version": 3
   },
   "file_extension": ".py",
   "mimetype": "text/x-python",
   "name": "python",
   "nbconvert_exporter": "python",
   "pygments_lexer": "ipython3",
   "version": "3.13.1"
  }
 },
 "nbformat": 4,
 "nbformat_minor": 5
}
