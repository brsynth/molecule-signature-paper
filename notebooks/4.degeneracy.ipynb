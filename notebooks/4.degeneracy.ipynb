{
 "cells": [
  {
   "cell_type": "markdown",
   "id": "a414b6a5-0205-483d-a5f7-705c75f8796b",
   "metadata": {},
   "source": [
    "# Degeneracy"
   ]
  },
  {
   "cell_type": "markdown",
   "id": "c316a4d8-472e-4c74-94b6-3866592e9c71",
   "metadata": {},
   "source": [
    "## Parameters"
   ]
  },
  {
   "cell_type": "code",
   "execution_count": null,
   "id": "89400b0f-0f51-42b8-8ddc-b275a079a3da",
   "metadata": {
    "editable": true,
    "slideshow": {
     "slide_type": ""
    },
    "tags": [
     "parameters"
    ]
   },
   "outputs": [],
   "source": [
    "# This cell is tagged `parameters`\n",
    "# input\n",
    "input_metanetx_tsv = \"/Users/ggricourt/Documents/signature/metanetx/metanetx.4_4.tsv\"\n",
    "input_emolecules_sdf = \"/Users/ggricourt/Documents/signature/emolecules/emolecules.2023-07-01.sdf.gz\"\n",
    "# output\n",
    "output_database_sql = \"database.sql\"\n",
    "output_degeneracy_json = \"degeneracy.json\"\n",
    "output_stats_csv = \"degeneracy.csv\"\n",
    "output_degeneracy_png = \"degeneracy.png\"\n",
    "            \n",
    "radius = 2\n",
    "nbits = 2048\n",
    "allHsExplicit = False\n",
    "use_smarts = True\n",
    "boundary_bonds = False\n",
    "max_molecular_weight = 500\n",
    "map_root = True\n",
    "rooted_smiles = False\n",
    "all_bits = True\n",
    "threads = 2\n",
    "tempdir = None"
   ]
  },
  {
   "cell_type": "markdown",
   "id": "3d9b1ee5-3000-4a6e-aad3-3afbc562056e",
   "metadata": {},
   "source": [
    "## Import"
   ]
  },
  {
   "cell_type": "code",
   "execution_count": null,
   "id": "6b9a37a9-0aeb-4ed7-b094-c507500ff184",
   "metadata": {
    "editable": true,
    "slideshow": {
     "slide_type": ""
    },
    "tags": []
   },
   "outputs": [],
   "source": [
    "# missing deps: openbabel seaborn pandarallel ipywidgets\n",
    "import argparse\n",
    "import collections\n",
    "import csv\n",
    "import glob\n",
    "import gzip\n",
    "import json\n",
    "import os\n",
    "import math\n",
    "import multiprocessing\n",
    "import sqlite3\n",
    "import tempfile\n",
    "import time\n",
    "import shutil\n",
    "from typing import Dict, List, Optional\n",
    "\n",
    "import matplotlib.pyplot as plt\n",
    "import numpy as np\n",
    "import pandas as pd\n",
    "import seaborn as sns\n",
    "from openbabel import pybel\n",
    "from pandarallel import pandarallel\n",
    "from rdkit import Chem\n",
    "from rdkit.Chem import AllChem, Descriptors\n",
    "from rdkit import RDLogger\n",
    "from signature.Signature import MoleculeSignature\n",
    "from signature.signature_alphabet import compatible_alphabets, load_alphabet, merge_alphabets, sanitize_molecule, SignatureAlphabet, signature_from_smiles\n",
    "from signature.utils import read_csv, read_tsv, read_txt, write_csv\n",
    "\n",
    "RDLogger.DisableLog(\"rdApp.*\")\n",
    "pandarallel.initialize(nb_workers=threads, progress_bar=True)"
   ]
  },
  {
   "cell_type": "markdown",
   "id": "5260a2b7-a4d1-4cf5-8b3e-9a671719b638",
   "metadata": {},
   "source": [
    "## Functions"
   ]
  },
  {
   "cell_type": "code",
   "execution_count": null,
   "id": "2372f6a7-0099-40bb-af3e-75d1a2bba45c",
   "metadata": {
    "editable": true,
    "slideshow": {
     "slide_type": ""
    },
    "tags": []
   },
   "outputs": [],
   "source": [
    "# SQL\n",
    "def number_records(cursor, table: str) -> int:\n",
    "    cursor.execute('SELECT COUNT(*) FROM %s' % (table,))\n",
    "    res = cursor.fetchone()\n",
    "    if res:\n",
    "        return res[0]\n",
    "    return -1\n",
    "\n",
    "def check_table_exists(cursor, table: str) -> bool:\n",
    "    cursor.execute('SELECT name FROM sqlite_master WHERE type=\"table\" AND name=\"%s\"' % (table,))\n",
    "    if cursor.fetchone():\n",
    "        return True\n",
    "    return False\n",
    "\n",
    "def check_record_exists(cursor, table: str, smiles: str) -> bool:\n",
    "    cursor.execute('SELECT smiles FROM %s WHERE smiles=%s' % (table, smiles,))\n",
    "    if cursor.fetchone():\n",
    "        return True\n",
    "    return False\n",
    "\n",
    "def drop_duplicates_smiles(cursor, table: str) -> int:\n",
    "    count_before = number_records(cursor=cursor, table=table)\n",
    "    cursor.execute(\"CREATE TABLE new_table AS SELECT * FROM %s WHERE rowid IN (SELECT MIN(rowid) FROM %s GROUP BY smiles);\" % (table, table,))\n",
    "    cursor.execute(\"DROP TABLE %s;\" % (table,))\n",
    "    cursor.execute(\"ALTER TABLE new_table RENAME TO %s;\" % (table,))\n",
    "    #cursor.execute(\"VACUUM;\")\n",
    "    #cursor.execute(\"DELETE FROM %s WHERE rowid NOT IN (SELECT MIN(rowid) FROM %s GROUP BY smiles);\" % (table, table,))\n",
    "    count_after = number_records(cursor=cursor, table=table)\n",
    "    return count_before - count_after\n",
    "\n",
    "# Molecules\n",
    "def read_sdf(path: str) -> Dict:\n",
    "    for mol in pybel.readfile(\"sdf\", path):        \n",
    "        ident = mol.data[\"EMOL_VERSION_ID\"]\n",
    "        smi = mol.write(\"smi\").replace(\"\\n\", \"\").replace(\"\\t\", \"\")\n",
    "        yield dict(id=ident, smiles=smi)\n",
    "        \n",
    "def sanitize(smiles: str, max_molecular_weight: int) -> Optional[str]:\n",
    "    # Remove molecules with weight > max_molecular_weight\n",
    "    # and with more than one piece. Make sure all molecules\n",
    "    # are unique.\n",
    "    res = pd.NA\n",
    "    if pd.isna(smiles) or smiles == \"nan\":\n",
    "        return res\n",
    "    if smiles.find(\".\") != -1:\n",
    "        return res  # not in one piece\n",
    "    if len(smiles) > int(max_molecular_weight / 5):  # Cheap skip\n",
    "        return res\n",
    "    mol, smiles = sanitize_molecule(Chem.MolFromSmiles(smiles), formalCharge=True)\n",
    "    if mol is None:\n",
    "        return res\n",
    "    if Chem.Descriptors.ExactMolWt(mol) > max_molecular_weight:\n",
    "        return res\n",
    "    return smiles\n",
    "\n",
    "def ecfp(smi: str, radius: int) -> str:\n",
    "    fpgen = AllChem.GetMorganGenerator(radius=radius, fpSize=2048)\n",
    "    # fp = fpgen.GetFingerprint(mol)  # returns a bit vector (value 1 or 0)\n",
    "    fp = fpgen.GetCountFingerprint(AllChem.MolFromSmiles(smi))\n",
    "    return \"-\".join([str(x) for x in fp.ToList()])\n",
    "\n",
    "# Signature\n",
    "def compute_sig(smi: str, radius: int, use_smarts: bool, boundary_bonds: bool, map_root: bool, rooted_smiles: bool, nbits: int, all_bits: bool):\n",
    "    # Compute the molecule signature\n",
    "    ms = MoleculeSignature(\n",
    "        Chem.MolFromSmiles(smi),\n",
    "        radius=radius,\n",
    "        use_smarts=use_smarts,\n",
    "        boundary_bonds=boundary_bonds,\n",
    "        map_root=map_root,\n",
    "        rooted_smiles=rooted_smiles,\n",
    "        nbits=nbits,\n",
    "        all_bits=all_bits\n",
    "    )\n",
    "    return ms.to_string(neighbors=False)\n",
    "    \n",
    "def compute_data(df: pd.DataFrame, max_molecular_weight: int, radius: int, use_smarts: bool, boundary_bonds: bool, map_root: bool, rooted_smiles: bool, nbits: int, all_bits: bool) -> pd.DataFrame:\n",
    "    df.drop_duplicates(subset=[\"smiles\"], inplace=True)\n",
    "    \n",
    "    print(\"\\t\", \"Sanitize\")\n",
    "    start_time = time.time()\n",
    "    df[\"smiles\"] = df[\"smiles\"].parallel_apply(sanitize, args=(max_molecular_weight,),)\n",
    "    print(\"\\t\", \"End sanitize\", time.time() - start_time)\n",
    "    df = df[~pd.isna(df[\"smiles\"])]\n",
    "    \n",
    "    print(\"\\t\", \"Compute signature\")\n",
    "    start_time = time.time()\n",
    "    df[\"sig\"] = df[\"smiles\"].parallel_apply(compute_sig, args=(radius, use_smarts, boundary_bonds, map_root, rooted_smiles, nbits, all_bits,),)\n",
    "    print(\"\\t\", \"End signature\", time.time() - start_time)\n",
    "    \n",
    "    print(\"\\t\", \"Ecfp\")\n",
    "    start_time = time.time()\n",
    "    df[\"ecfp\"] = df[\"smiles\"].parallel_apply(ecfp, args=(radius,))\n",
    "    print(\"\\t\", \"End ecfp\", time.time() - start_time)\n",
    "    \n",
    "    return df\n",
    "\n",
    "                       "
   ]
  },
  {
   "cell_type": "markdown",
   "id": "9f0be612-d008-4079-b066-b688d45e3645",
   "metadata": {},
   "source": [
    "## Create dabase"
   ]
  },
  {
   "cell_type": "code",
   "execution_count": null,
   "id": "2bc09ade-e3b1-4c2d-8b6d-171dee49f5b0",
   "metadata": {},
   "outputs": [],
   "source": [
    "if os.path.exists(output_database_sql):\n",
    "    os.remove(output_database_sql)\n",
    "conn = sqlite3.connect(output_database_sql)\n",
    "cursor = conn.cursor()"
   ]
  },
  {
   "cell_type": "code",
   "execution_count": null,
   "id": "25715d96-4c85-4449-a33b-8928f0e38f39",
   "metadata": {
    "editable": true,
    "slideshow": {
     "slide_type": ""
    },
    "tags": []
   },
   "outputs": [],
   "source": [
    "# MetaNetX\n",
    "print(\"MetaNetX\")\n",
    "start = time.time()\n",
    "df_metanetx = pd.read_csv(input_metanetx_tsv, sep=\"\\t\")\n",
    "\n",
    "df_metanetx.rename(columns={\"#ID\": \"id\", \"SMILES\": \"smiles\"}, inplace=True)\n",
    "df_metanetx.drop(columns=[\"name\", \"reference\", \"formula\", \"charge\", \"mass\", \"InChI\", \"InChIKey\"], inplace=True)\n",
    "\n",
    "df_metanetx = compute_data(\n",
    "    df=df_metanetx,\n",
    "    max_molecular_weight=max_molecular_weight,\n",
    "    radius=radius,\n",
    "    use_smarts=use_smarts,\n",
    "    boundary_bonds=boundary_bonds,\n",
    "    map_root=map_root,\n",
    "    rooted_smiles=rooted_smiles,\n",
    "    nbits=nbits,\n",
    "    all_bits=all_bits\n",
    ")\n",
    "time_compute = time.time() - start\n",
    "start = time.time()\n",
    "df_metanetx.to_sql('metanetx', conn, if_exists='replace', index=False)\n",
    "time_sql = time.time() - start\n",
    "print(\"Time compute :\", time_compute, \"Time sql :\", time_sql)\n",
    "\n",
    "# Drop duplicates\n",
    "count = drop_duplicates_smiles(cursor, table=\"metanetx\")\n",
    "print(\"Remove duplicates:\", count)"
   ]
  },
  {
   "cell_type": "code",
   "execution_count": null,
   "id": "73be8d39-84f2-4906-8f69-7ba37d9327b3",
   "metadata": {},
   "outputs": [],
   "source": [
    "# emolecules\n",
    "print(\"eMolecules\")\n",
    "\n",
    "# Init\n",
    "max_size = 5e5\n",
    "data = []\n",
    "current_item = 0\n",
    "current_file = 0\n",
    "if tempdir is None or tempdir == \"\":\n",
    "    tempdir = tempfile.mkdtemp()\n",
    "\n",
    "# Parse and split emolecules for memory purposes\n",
    "for ix, rec in enumerate(read_sdf(path=input_emolecules_sdf)):\n",
    "    if current_item > max_size - 1:\n",
    "        df = pd.DataFrame(data)\n",
    "        df.to_csv(os.path.join(tempdir, \"emolecules.\" + str(current_file) + \".raw.csv.gz\"), index=False)\n",
    "        data = []\n",
    "        current_item = 0\n",
    "        current_file += 1\n",
    "        \n",
    "    data.append(rec)\n",
    "    current_item += 1\n",
    "\n",
    "df = pd.DataFrame(data)\n",
    "df.to_csv(os.path.join(tempdir, \"emolecules.\" + str(current_file) + \".raw.csv.gz\"), index=False)\n",
    "current_file += 1\n",
    "\n",
    "# Compute signature\n",
    "for filename in glob.glob(os.path.join(tempdir, \"emolecules.*.raw.csv.gz\")):\n",
    "    df = pd.read_csv(filename)\n",
    "    df = compute_data(\n",
    "        df=df,\n",
    "        max_molecular_weight=max_molecular_weight,\n",
    "        radius=radius,\n",
    "        use_smarts=use_smarts,\n",
    "        boundary_bonds=boundary_bonds,\n",
    "        map_root=map_root,\n",
    "        rooted_smiles=rooted_smiles,\n",
    "        nbits=nbits,\n",
    "        all_bits=all_bits\n",
    "    )\n",
    "    df.to_sql(\"emolecules\", conn, if_exists=\"append\", index=False)\n",
    "\n",
    "# Clean up\n",
    "shutil.rmtree(tempdir, ignore_errors=True)\n",
    "\n",
    "# Drop duplicates\n",
    "count = drop_duplicates_smiles(cursor, table=\"emolecules\")\n",
    "print(\"Remove duplicates:\", count)"
   ]
  },
  {
   "cell_type": "code",
   "execution_count": null,
   "id": "db77825b-0b90-443e-9127-cfe8804534d1",
   "metadata": {},
   "outputs": [],
   "source": [
    "conn.close()"
   ]
  },
  {
   "cell_type": "markdown",
   "id": "fd689e9a-7868-4f42-acf5-9e02e11946d3",
   "metadata": {},
   "source": [
    "## Compute"
   ]
  },
  {
   "cell_type": "code",
   "execution_count": null,
   "id": "fef47ef4-5956-453b-9746-f4341ef8da0b",
   "metadata": {},
   "outputs": [],
   "source": [
    "conn = sqlite3.connect(output_database_sql)\n",
    "cursor = conn.cursor()"
   ]
  },
  {
   "cell_type": "code",
   "execution_count": null,
   "id": "013d7beb-76e2-42be-8876-92bcb4d5ebb3",
   "metadata": {
    "editable": true,
    "slideshow": {
     "slide_type": ""
    },
    "tags": []
   },
   "outputs": [],
   "source": [
    "COLS = {\n",
    "    \"sig\": \"Signature\",\n",
    "    \"smiles\": \"SMILES\",\n",
    "    \"ecfp\": \"ECFP\" + str(radius * 2)\n",
    "}\n",
    "stats = {}\n",
    "for source in [\"metanetx\", \"emolecules\"]:\n",
    "    stats[source] = {}\n",
    "    total = 0\n",
    "    for ix, col in enumerate(COLS.keys()):\n",
    "        print(\"Analyze:\", col)\n",
    "        # Parse file\n",
    "        collision = collections.Counter()\n",
    "        \n",
    "        print(\"Query - start\")\n",
    "        start = time.time()\n",
    "        cursor.execute(\"SELECT COUNT(*) FROM %s GROUP BY %s;\" % (source, col,))\n",
    "        for res in cursor.fetchall():\n",
    "            collision.update([res[0]])\n",
    "        print(\"Query - end\", time.time() - start)\n",
    "        stats[source][col] = dict(collision) # key: occurences, value: number of occurences\n",
    "\n",
    "        # Get total\n",
    "        if ix < 1:\n",
    "            stats[source][\"total\"] = number_records(cursor=cursor, table=source)\n",
    "\n",
    "# Save\n",
    "with open(output_degeneracy_json, \"w\") as fd:\n",
    "    json.dump(stats, fd)"
   ]
  },
  {
   "cell_type": "code",
   "execution_count": null,
   "id": "e26eefc4-a625-4223-877a-deffa270f81e",
   "metadata": {},
   "outputs": [],
   "source": [
    "conn.close()"
   ]
  },
  {
   "cell_type": "markdown",
   "id": "278ffd5d-1999-44ee-ab98-d5954ef31e0e",
   "metadata": {
    "editable": true,
    "slideshow": {
     "slide_type": ""
    },
    "tags": []
   },
   "source": [
    "## Graph"
   ]
  },
  {
   "cell_type": "code",
   "execution_count": null,
   "id": "fa642d05-77ff-48bf-9c17-2f0672eecbb3",
   "metadata": {},
   "outputs": [],
   "source": [
    "def create_df(data: Dict, src: str) -> pd.DataFrame:\n",
    "    del data[\"total\"]\n",
    "    df_raw = pd.DataFrame(data)\n",
    "\n",
    "    # Rename cols\n",
    "    df_raw.rename(columns=COLS, inplace=True)\n",
    "\n",
    "    df = pd.DataFrame()\n",
    "    for col in df_raw.columns:\n",
    "        df_col = df_raw[col].to_frame()\n",
    "        df_col[\"label\"] = col\n",
    "        df_col.rename(columns={col: \"count\"}, inplace=True)\n",
    "        df = pd.concat([df, df_col])\n",
    "\n",
    "    # Create \"duplicate\"\n",
    "    df.reset_index(inplace=True)\n",
    "    df.rename(columns={\"index\": \"duplicate\"}, inplace=True)\n",
    "\n",
    "    # Fmt\n",
    "    df.fillna(0, inplace=True)\n",
    "    df[\"duplicate\"] = df[\"duplicate\"].astype(int)\n",
    "    df[\"count\"] = df[\"count\"].astype(int)\n",
    "    df[\"count_log\"] = df[\"count\"].apply(lambda x: math.log(x) if x > 0 else 0)\n",
    "\n",
    "    df[\"src\"] = src\n",
    "\n",
    "    df = df[df[\"label\"] != \"smiles\"]\n",
    "    return df"
   ]
  },
  {
   "cell_type": "code",
   "execution_count": null,
   "id": "4ba1f6bd-a8ae-451b-92b5-02e3372b2ad6",
   "metadata": {},
   "outputs": [],
   "source": [
    "data = json.load(open(output_degeneracy_json))\n",
    "\n",
    "# Load data\n",
    "df_metanetx = create_df(data=data[\"metanetx\"], src=\"metanetx\")\n",
    "df_emolecules = create_df(data=data[\"emolecules\"], src=\"emolecules\")\n",
    "\n",
    "df = pd.concat([df_metanetx, df_emolecules])\n",
    "df.sort_values(\"duplicate\", inplace=True)\n",
    "df.reset_index(inplace=True, drop=True)\n",
    "\n",
    "# Graph\n",
    "sns.set_theme(style=\"darkgrid\")\n",
    "ax = sns.lineplot(data=df, x=\"duplicate\", y=\"count_log\", hue=\"src\", style=\"label\")\n",
    "ax.set(xlabel=\"Duplicate\", ylabel=\"Occurence (log)\")\n",
    "\n",
    "df.to_csv(output_stats_csv, index=False)\n",
    "plt.savefig(output_degeneracy_png)"
   ]
  }
 ],
 "metadata": {
  "kernelspec": {
   "display_name": "Python 3 (ipykernel)",
   "language": "python",
   "name": "python3"
  },
  "language_info": {
   "codemirror_mode": {
    "name": "ipython",
    "version": 3
   },
   "file_extension": ".py",
   "mimetype": "text/x-python",
   "name": "python",
   "nbconvert_exporter": "python",
   "pygments_lexer": "ipython3",
   "version": "3.12.4"
  }
 },
 "nbformat": 4,
 "nbformat_minor": 5
}
