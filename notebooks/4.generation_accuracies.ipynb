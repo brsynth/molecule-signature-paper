{
 "cells": [
  {
   "cell_type": "markdown",
   "metadata": {},
   "source": [
    "# **4. Recovery from the generative model predictions**\n",
    "\n",
    "In this notebook, we evaluate the generative model predictions by checking wether the original molecules\n",
    "can be recovered from the generated SMILES strings within the top-K predictions. Top-K are defined with K = 1, 10, and 100. Test datasets size is 10k molecules for both MetaNetX and eMolecules.\n",
    "\n",
    "Parameters to be set before running the notebook:\n",
    "- `MAX_ROWS`: maximum number of rows to be considered for the evaluation (e.g. 10 000)\n",
    "- `DB`: dataset to be used for the evaluation (e.g. 'MetaNetX' or 'eMolecules')\n",
    "- `TOP_K`: top-K predictions to be considered (e.g. 1, 10, 100)"
   ]
  },
  {
   "cell_type": "code",
   "execution_count": 21,
   "metadata": {
    "tags": [
     "parameters"
    ]
   },
   "outputs": [],
   "source": [
    "MAX_ROWS = 10000\n",
    "DB = \"metanetx\"\n",
    "TOP_K = 100"
   ]
  },
  {
   "cell_type": "markdown",
   "metadata": {},
   "source": [
    "___"
   ]
  },
  {
   "cell_type": "markdown",
   "metadata": {},
   "source": [
    "## 5.0 — Init & Settings"
   ]
  },
  {
   "cell_type": "code",
   "execution_count": 22,
   "metadata": {},
   "outputs": [
    {
     "name": "stdout",
     "output_type": "stream",
     "text": [
      "The autoreload extension is already loaded. To reload it, use:\n",
      "  %reload_ext autoreload\n"
     ]
    }
   ],
   "source": [
    "%load_ext autoreload\n",
    "%autoreload 2\n",
    "\n",
    "from pathlib import Path\n",
    "\n",
    "import numpy as np\n",
    "import pandas as pd\n",
    "from rdkit import RDLogger  # for disabling RDKit warnings\n",
    "\n",
    "import handy\n",
    "from paper.dataset.utils import (\n",
    "    mol_from_smiles,\n",
    "    mol_to_smiles,\n",
    "    mol_to_ecfp,\n",
    "    ecfp_to_string,\n",
    "    tanimoto,\n",
    ")\n",
    "from handy import mol_to_ecfp_molforge, ecfp_to_string_molforge\n",
    "from paper.learning import predict\n",
    "from paper.learning.configure import Config\n",
    "\n",
    "# Logging --------------------------------------------------------------------\n",
    "\n",
    "RDLogger.DisableLog(\"rdApp.error\")\n",
    "RDLogger.DisableLog('rdApp.warning')\n",
    "\n",
    "\n",
    "# Utils ------------------------------------------------------------------------\n",
    "\n",
    "def mol_to_ecfp_string(mol):\n",
    "    return ecfp_to_string(mol_to_ecfp(mol))\n",
    "\n",
    "\n",
    "def mol_from_smiles_with_exception(mol):\n",
    "    try:\n",
    "        return mol_from_smiles(mol)\n",
    "    except:\n",
    "        return None\n",
    "\n",
    "\n",
    "# Settings --------------------------------------------------------------------\n",
    "\n",
    "BASE_DIR = Path().resolve().parent\n",
    "TEST_FILE = BASE_DIR / 'data' / DB / 'splitting' / 'test.tsv'\n",
    "WORK_DIR = BASE_DIR / 'notebooks' / 'tables-1-2'\n",
    "\n",
    "\n",
    "# Prediction settings\n",
    "CONFIG = Config(\n",
    "    model_path= BASE_DIR / \"data\" / \"models\" / \"finetuned.ckpt\",\n",
    "    model_source_tokenizer= BASE_DIR / \"data\" / \"tokens\" / \"ECFP.model\",\n",
    "    model_target_tokenizer= BASE_DIR / \"data\" / \"tokens\" / \"SMILES.model\",\n",
    "    pred_mode=\"beam\",\n",
    "    pred_batch_size=1,\n",
    "    pred_beam_size=TOP_K,\n",
    "    pred_max_rows=MAX_ROWS,\n",
    ")\n",
    "CONFIG.device = \"cpu\""
   ]
  },
  {
   "cell_type": "markdown",
   "metadata": {},
   "source": [
    "## 5.1 — Data Preparation"
   ]
  },
  {
   "cell_type": "code",
   "execution_count": 3,
   "metadata": {},
   "outputs": [],
   "source": [
    "# Data preparation -------------------------------------------------------------\n",
    "\n",
    "# Create output directory if it doesn't exist\n",
    "WORK_DIR.mkdir(parents=True, exist_ok=True)\n",
    "Path(WORK_DIR / DB / str(TOP_K)).mkdir(parents=True, exist_ok=True)\n",
    "\n",
    "# Load test data\n",
    "data = pd.read_csv(TEST_FILE, sep='\\t', nrows=MAX_ROWS)\n",
    "\n",
    "# Drop unnecessary columns\n",
    "data.drop(columns=['SMILES_0', 'SIGNATURE', 'SIGNATURE_MORGANS'], inplace=True)\n",
    "\n",
    "# Rename few columns for more clarity\n",
    "data.rename(columns={'ID': 'Query ID', 'SMILES': 'Query SMILES', 'ECFP': 'Query ECFP'}, inplace=True)\n",
    "\n",
    "# Saved processed data\n",
    "data.to_csv(WORK_DIR / DB / 'data.tsv', sep='\\t', index=False)"
   ]
  },
  {
   "cell_type": "markdown",
   "metadata": {},
   "source": [
    "## 5.1. Generation"
   ]
  },
  {
   "cell_type": "code",
   "execution_count": 4,
   "metadata": {},
   "outputs": [
    {
     "name": "stderr",
     "output_type": "stream",
     "text": [
      "Using default `ModelCheckpoint`. Consider installing `litmodels` package to enable `LitModelCheckpoint` for automatic upload to the Lightning model registry.\n",
      "GPU available: True (mps), used: False\n",
      "TPU available: False, using: 0 TPU cores\n",
      "HPU available: False, using: 0 HPUs\n",
      "/Users/tduigou/miniforge3/envs/signature-paper/lib/python3.11/site-packages/lightning/pytorch/trainer/setup.py:177: GPU available but not used. You can set it by doing `Trainer(accelerator='gpu')`.\n"
     ]
    },
    {
     "name": "stdout",
     "output_type": "stream",
     "text": [
      "Predicting DataLoader 0: 100%|██████████| 10000/10000 [21:50:36<00:00,  0.13it/s]  \n",
      "Prediction completed in 78725.38 seconds.\n"
     ]
    }
   ],
   "source": [
    "data_filename = 'data.tsv'\n",
    "out_filename = 'results.raw.tsv'\n",
    "\n",
    "\n",
    "# Prediction -------------------------------------------------------------------\n",
    "\n",
    "# Load the data for prediction\n",
    "data = pd.read_csv(WORK_DIR / DB / data_filename, sep=\"\\t\")\n",
    "\n",
    "# Truncate data according to the prediction limit\n",
    "data = data.iloc[:CONFIG.pred_max_rows]\n",
    "\n",
    "# Predict\n",
    "with handy.Timer() as timer:\n",
    "    results = predict.run(CONFIG, query_data=data[[\"Query ID\", \"Query ECFP\"]])\n",
    "\n",
    "# Log the prediction time\n",
    "print(f\"Prediction completed in {timer.elapsed:.2f} seconds.\")\n",
    "\n",
    "# Post-processing --------------------------------------------------------------\n",
    "\n",
    "# Merge results with the original data using the \"Query ID\" column\n",
    "results = pd.merge(data, results, on=\"Query ID\", how=\"left\")\n",
    "assert results[\"Query ECFP_x\"].equals(results[\"Query ECFP_y\"])\n",
    "results.drop(columns=[\"Query ECFP_y\"], inplace=True)\n",
    "results = results.rename(columns={\"Query ECFP_x\": \"Query ECFP\"})"
   ]
  },
  {
   "cell_type": "code",
   "execution_count": 5,
   "metadata": {},
   "outputs": [],
   "source": [
    "# Save results -----------------------------------------------------------------\n",
    "\n",
    "results.to_csv(WORK_DIR / DB / str(TOP_K) / out_filename, sep='\\t', index=False)"
   ]
  },
  {
   "cell_type": "markdown",
   "metadata": {},
   "source": [
    "___"
   ]
  },
  {
   "cell_type": "markdown",
   "metadata": {},
   "source": [
    "## 5.2. Refine results"
   ]
  },
  {
   "cell_type": "code",
   "execution_count": 18,
   "metadata": {},
   "outputs": [],
   "source": [
    "results_file = WORK_DIR / DB / str(TOP_K) / \"results.raw.tsv\"\n",
    "out_file = WORK_DIR / DB / str(TOP_K) / \"results.refined.tsv\"\n",
    "\n",
    "\n",
    "# Load data --------------------------------------------------------------\n",
    "\n",
    "data = pd.read_csv(results_file, sep=\"\\t\")\n",
    "\n",
    "\n",
    "# Refine data ------------------------------------------------------------\n",
    "\n",
    "# Let's recompute required information on the Query side\n",
    "data[\"Query Mol\"] = data[\"Query SMILES\"].apply(mol_from_smiles_with_exception)\n",
    "data[\"Query Counted ECFP Object\"] = data[\"Query Mol\"].apply(mol_to_ecfp)\n",
    "data[\"Query Counted ECFP\"] = data[\"Query Counted ECFP Object\"].apply(ecfp_to_string)\n",
    "data[\"Query Binary ECFP Object\"] = data[\"Query Mol\"].apply(mol_to_ecfp_molforge)\n",
    "data[\"Query Binary ECFP\"] = data[\"Query Binary ECFP Object\"].apply(ecfp_to_string_molforge)\n",
    "\n",
    "assert data[\"Query Counted ECFP\"].equals(data[\"Query ECFP\"])\n",
    "data.drop(columns=[\"Query ECFP\"], inplace=True)\n",
    "\n",
    "# Now let's populate back the prediction side\n",
    "data[\"Predicted Prob\"] = data[\"Predicted Log Prob\"].apply(np.exp)\n",
    "data[\"Predicted Mol\"] = data[\"Predicted SMILES\"].apply(mol_from_smiles_with_exception)\n",
    "data[\"Predicted Canonic SMILES\"] = data[\"Predicted Mol\"].apply(mol_to_smiles)\n",
    "data[\"Predicted Counted ECFP Object\"] = data[\"Predicted Mol\"].apply(mol_to_ecfp)\n",
    "data[\"Predicted Counted ECFP\"] = data[\"Predicted Counted ECFP Object\"].apply(ecfp_to_string)\n",
    "data[\"Predicted Binary ECFP Object\"] = data[\"Predicted Mol\"].apply(mol_to_ecfp_molforge)\n",
    "data[\"Predicted Binary ECFP\"] = data[\"Predicted Binary ECFP Object\"].apply(ecfp_to_string_molforge)\n",
    "\n",
    "# Now let's check for Mol validity\n",
    "data[\"SMILES Syntaxically Valid\"] = data[\"Predicted Mol\"].notnull()\n",
    "\n",
    "# Now let's check for SMILES equality (with and without stereo)\n",
    "data[\"SMILES Exact Match\"] = data[\"Query SMILES\"] == data[\"Predicted Canonic SMILES\"]\n",
    "\n",
    "# Now let's check for Tanimoto similarity (with and without stereo)\n",
    "data[\"Tanimoto Counted ECFP\"] = data.apply(lambda x: tanimoto(x[\"Query Counted ECFP Object\"], x[\"Predicted Counted ECFP Object\"]), axis=1)\n",
    "data[\"Tanimoto Counted ECFP Exact Match\"] = data[\"Tanimoto Counted ECFP\"] == 1.0\n",
    "data[\"Tanimoto Binary ECFP\"] = data.apply(lambda x: tanimoto(x[\"Query Binary ECFP Object\"], x[\"Predicted Binary ECFP Object\"]), axis=1)\n",
    "data[\"Tanimoto Binary ECFP Exact Match\"] = data[\"Tanimoto Binary ECFP\"] == 1.0\n",
    "\n",
    "# Finally export the refined DataFrame\n",
    "cols = [\n",
    "    \"Query ID\",\n",
    "    \"Query SMILES\",\n",
    "    \"Query Counted ECFP\",\n",
    "    \"Predicted Tokens\",\n",
    "    \"Predicted Log Prob\",\n",
    "    \"Predicted Prob\",\n",
    "    \"Predicted SMILES\",\n",
    "    \"Predicted Counted ECFP\",\n",
    "    \"Predicted Binary ECFP\",\n",
    "    \"Predicted Canonic SMILES\",\n",
    "    \"Tanimoto Counted ECFP\",\n",
    "    \"Tanimoto Binary ECFP\",\n",
    "    \"SMILES Exact Match\",\n",
    "    \"Tanimoto Counted ECFP Exact Match\",\n",
    "    \"Tanimoto Binary ECFP Exact Match\",\n",
    "    \"SMILES Syntaxically Valid\",\n",
    "    \"Time Elapsed\",\n",
    "]\n",
    "data.to_csv(out_file, sep=\"\\t\", index=False, columns=cols)\n"
   ]
  },
  {
   "cell_type": "markdown",
   "metadata": {},
   "source": [
    "___"
   ]
  },
  {
   "cell_type": "markdown",
   "metadata": {},
   "source": [
    "## 5.3. Summary statistics"
   ]
  },
  {
   "cell_type": "code",
   "execution_count": 19,
   "metadata": {},
   "outputs": [
    {
     "name": "stdout",
     "output_type": "stream",
     "text": [
      "stats: \n",
      "                             Stat     Value\n",
      "0                 SMILES Accuracy  0.943100\n",
      "1  Tanimoto Counted ECFP Accuracy  0.948800\n",
      "2          SMILES Syntax Validity  0.998000\n",
      "3   Tanimoto Binary ECFP Accuracy  0.960400\n",
      "4            Average Time Elapsed  6.001689\n",
      "\n",
      "uniqueness: \n",
      "   Distinct Molecules per Query  Count\n",
      "0                             0    512\n",
      "1                             1   8174\n",
      "2                             2    657\n",
      "3                             3    352\n",
      "4                             4    115\n",
      "5                             5     39\n",
      "6                             6     27\n",
      "7                             7     23\n",
      "8                             8     16\n",
      "9                             9     11\n",
      "10                           10     10\n",
      "11                           11      5\n",
      "12                           12      9\n",
      "13                           13      2\n",
      "14                           14      7\n",
      "15                           15      3\n",
      "16                           17      4\n",
      "17                           18      6\n",
      "18                           19      2\n",
      "19                           20      4\n",
      "20                           21      2\n",
      "21                           22      4\n",
      "22                           23      2\n",
      "23                           24      6\n",
      "24                           28      2\n",
      "25                           30      1\n",
      "26                           31      1\n",
      "27                           34      1\n",
      "28                           39      1\n",
      "29                           40      1\n",
      "30                           61      1\n"
     ]
    }
   ],
   "source": [
    "results_file = WORK_DIR / DB / str(TOP_K) / \"results.refined.tsv\"\n",
    "\n",
    "# Load refined data -------------------------------------------------------------\n",
    "\n",
    "data = pd.read_csv(results_file, sep=\"\\t\")\n",
    "\n",
    "# Summary -----------------------------------------------------------------------\n",
    "summary = handy.get_summary(data, topk=TOP_K)\n",
    "out_file = WORK_DIR / DB / str(TOP_K) / \"summary.tsv\"\n",
    "summary.to_csv(out_file, sep=\"\\t\", index=False)\n",
    "\n",
    "# Statistics  --------------------------------------------------------------------\n",
    "stats = handy.get_statistics(data, topk=TOP_K)\n",
    "out_file = WORK_DIR / DB / str(TOP_K) / \"statistics.tsv\"\n",
    "stats.to_csv(out_file, sep=\"\\t\", index=False)\n",
    "\n",
    "# Uniqueness ----------------------------------------------------------------------\n",
    "uniqueness = handy.get_uniqueness(data, topk=TOP_K)\n",
    "out_file = WORK_DIR / DB / str(TOP_K) / \"uniqueness.tsv\"\n",
    "uniqueness.to_csv(out_file, sep=\"\\t\", index=False)\n",
    "\n",
    "print(\"stats: \")\n",
    "print(stats)\n",
    "print()\n",
    "print(\"uniqueness: \")\n",
    "print(uniqueness)"
   ]
  }
 ],
 "metadata": {
  "kernelspec": {
   "display_name": "signature-paper",
   "language": "python",
   "name": "python3"
  },
  "language_info": {
   "codemirror_mode": {
    "name": "ipython",
    "version": 3
   },
   "file_extension": ".py",
   "mimetype": "text/x-python",
   "name": "python",
   "nbconvert_exporter": "python",
   "pygments_lexer": "ipython3",
   "version": "3.11.0"
  }
 },
 "nbformat": 4,
 "nbformat_minor": 2
}
